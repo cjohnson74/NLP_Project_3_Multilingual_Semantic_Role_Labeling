{
 "cells": [
  {
   "cell_type": "markdown",
   "metadata": {
    "id": "_UJN3HMBvlEo"
   },
   "source": [
    "<h1><center><b>Project 2: Document Similarity</b></center></h1>\n",
    "\n",
    "---\n",
    "\n",
    "\n",
    "\n",
    "---\n",
    "\n",
    "\n",
    "\n",
    "# Introduction\n",
    "\n",
    "In this project we explore methods of calculating document similarity. Reading materials for this project can be found below. Another related technique is Jaccard's coefficient, which is described here: https://www.statology.org/jaccard-similarity/.  \n",
    "\n",
    "Computing document similarity involves comparing two documents and assigning a score that indicates the degree of similarity between two documents.\n",
    "\n",
    "Some key use cases of document similarity are:\n",
    "\n",
    "1. Document clustering\n",
    "2. Topic modelling\n",
    "3. Recommendation systems\n",
    "4. Analyzing social media trends\n",
    "\n",
    "This project explores text preprocessing methods, document similarity algorithms, and pre-trained models.\n",
    "\n",
    "* Part 0 sets up the environment through installation of the required dependencies and incorporates a kernel restart once the installation finishes.\n",
    "* Part 1 downloads and explores the dataset.\n",
    "* Part 2 builds text preprocessing methods.\n",
    "* Part 3 finds document similarity using similarity measures. Jaccard Similarity, Cosine distance with Word vectors will be explored here.\n",
    "* Part 4 implements tf-idf vectorization and BERT embeddings to calculate document similarity.\n",
    "* Part 5 concludes with ideas for further study.\n",
    "* Part 6 provides instructions for uploading responses and information about grading.\n",
    "\n",
    "Parts 0, 1, and 2 repeat some of the steps covered in Project 0 (without programming questions or quiz questions). Each of Parts 3 through 5 includes both programming questions (in Gradescope) and quiz questions (in Canvas) that must be answered in order to receive full credit for this assignment.\n",
    "\n",
    "**Important note on grading**:\n",
    "1. **Project 2 Programming questions** (in Gradescope) - Some of the functions are incomplete; complete them and pass the associated test cases. Passing a test case does not guarantee full credit. Update your answers in the .py file provided to you and upload it to Gradescope for grading.\n",
    "\n",
    "2. **Project 2 Quiz questions** (in Canvas) - This project is accompanied by a project quiz. For each project quiz question, select one or more correct options and explain the response in 200 characters or less. Any quiz response that does not include an explanation will not be graded. Explanations must be no longer than 200 characters; any additional words will result in automatic truncation and will not be considered for grading.\n",
    "\n",
    "**Review Materials for Project 2: Weeks 8-11**\n",
    "* Videos/handouts\n",
    "* FTF slides\n",
    "* Readings (including some concepts from earlier weeks), per the syllabus: SLP 2, 3, 4.7, 6, 9 (parts), 10 (parts), 11.\n"
   ]
  },
  {
   "cell_type": "markdown",
   "metadata": {
    "id": "UN2_RsgmhKbJ"
   },
   "source": [
    "# Part 0: Setting up the environment"
   ]
  },
  {
   "cell_type": "markdown",
   "metadata": {
    "id": "_P4rVftcZy7e"
   },
   "source": [
    "## 0.1 Running cells\n",
    "\n",
    "You can run the code in a cell by pressing (CMD/CTRL + ENTER) or by clicking the run button in the top left corner.\n",
    "\n",
    "Cells are divided into two categories:\n",
    "1. Markdown - This is a Markdown cell, which is used to provide instructions, similar to a running readme of your code.\n",
    "2. Code cell - The Code cell contains all the code.\n",
    "\n",
    "**Important Points:**\n",
    "\n",
    "**Jupyter Notebook cells are executed in order - from top to bottom. Any other order is not guaranteed to produce expected results.**\n",
    "\n",
    "**You must run all the cells in this notebook. (Even if you are not editing them)**"
   ]
  },
  {
   "cell_type": "markdown",
   "metadata": {
    "id": "suUMkKd-Z8cb"
   },
   "source": [
    "## 0.2 Install dependencies\n",
    "\n",
    "As stated in Project 0, spaCy is a free, open-source library for advanced Natural Language Processing (NLP) in Python. Feel free to learn more about the spacy package here: https://spacy.io/usage/spacy-101#annotations\n",
    "\n",
    "We further use en_core_web_md: a module for:\n",
    "1. en: English\n",
    "2. core: Vocabulary, syntax, entities\n",
    "3. web: Written text - (blogs, news, comments)\n",
    "4. md: 31 MB (This project uses the medium version [here](https://spacy.io/models/en#en_core_web_lg) for quick and reliable analysis; but feel free to try out other versions, below.)\n",
    "\n",
    "Other versions:\n",
    "1. Small: [en_core_web_sm](https://spacy.io/models/en#en_core_web_sm)\n",
    "2. Large: [en_core_web_lg](https://spacy.io/models/en#en_core_web_lg)\n",
    "3. Transformer: [en_core_web_trf](https://spacy.io/models/en#en_core_web_trf)\n",
    "\n",
    "**Run the code cell below to install required dependencies.**\n",
    "\n",
    "> After installation, you may need to restart the kernel. This can be done by selecting `Restart runtime` in the `Runtime` drop-down menu. But here for your convenience, the following code cell is automatically prompted to restart the kernel after installation is finished."
   ]
  },
  {
   "cell_type": "code",
   "execution_count": 1,
   "metadata": {
    "id": "hzw_XK9eZakK",
    "tags": []
   },
   "outputs": [
    {
     "name": "stdout",
     "output_type": "stream",
     "text": [
      "Defaulting to user installation because normal site-packages is not writeable\n",
      "\u001b[33mWARNING: Ignoring invalid distribution -angchain (/apps/jupyter/6.5.4/lib/python3.10/site-packages)\u001b[0m\u001b[33m\n",
      "\u001b[0m\u001b[33mWARNING: Ignoring invalid distribution -entence-transformers (/apps/jupyter/6.5.4/lib/python3.10/site-packages)\u001b[0m\u001b[33m\n",
      "\u001b[0m\u001b[33mWARNING: Ignoring invalid distribution -idgetsnbextension (/apps/jupyter/6.5.4/lib/python3.10/site-packages)\u001b[0m\u001b[33m\n",
      "\u001b[0m\u001b[33mWARNING: Ignoring invalid distribution -nstructured (/apps/jupyter/6.5.4/lib/python3.10/site-packages)\u001b[0m\u001b[33m\n",
      "\u001b[0m\u001b[33mWARNING: Ignoring invalid distribution -okenizers (/apps/jupyter/6.5.4/lib/python3.10/site-packages)\u001b[0m\u001b[33m\n",
      "\u001b[0m\u001b[33mWARNING: Ignoring invalid distribution -sspec (/apps/jupyter/6.5.4/lib/python3.10/site-packages)\u001b[0m\u001b[33m\n",
      "\u001b[0m\u001b[33mWARNING: Ignoring invalid distribution -uggingface-hub (/apps/jupyter/6.5.4/lib/python3.10/site-packages)\u001b[0m\u001b[33m\n",
      "\u001b[0mRequirement already satisfied: datasets in /apps/jupyter/6.5.4/lib/python3.10/site-packages (2.16.1)\n",
      "Requirement already satisfied: filelock in /apps/jupyter/6.5.4/lib/python3.10/site-packages (from datasets) (3.9.0)\n",
      "Requirement already satisfied: numpy>=1.17 in /apps/jupyter/6.5.4/lib/python3.10/site-packages (from datasets) (1.24.1)\n",
      "Requirement already satisfied: pyarrow>=8.0.0 in /apps/jupyter/6.5.4/lib/python3.10/site-packages (from datasets) (14.0.2)\n",
      "Requirement already satisfied: pyarrow-hotfix in /apps/jupyter/6.5.4/lib/python3.10/site-packages (from datasets) (0.6)\n",
      "Requirement already satisfied: dill<0.3.8,>=0.3.0 in /apps/jupyter/6.5.4/lib/python3.10/site-packages (from datasets) (0.3.7)\n",
      "Requirement already satisfied: pandas in /apps/jupyter/6.5.4/lib/python3.10/site-packages (from datasets) (2.1.4)\n",
      "Requirement already satisfied: requests>=2.19.0 in /apps/jupyter/6.5.4/lib/python3.10/site-packages (from datasets) (2.31.0)\n",
      "Requirement already satisfied: tqdm>=4.62.1 in /apps/jupyter/6.5.4/lib/python3.10/site-packages (from datasets) (4.66.1)\n",
      "Requirement already satisfied: xxhash in /apps/jupyter/6.5.4/lib/python3.10/site-packages (from datasets) (3.4.1)\n",
      "Requirement already satisfied: multiprocess in /apps/jupyter/6.5.4/lib/python3.10/site-packages (from datasets) (0.70.15)\n",
      "Requirement already satisfied: fsspec<=2023.10.0,>=2023.1.0 in /apps/jupyter/6.5.4/lib/python3.10/site-packages (from fsspec[http]<=2023.10.0,>=2023.1.0->datasets) (2023.10.0)\n",
      "Requirement already satisfied: aiohttp in /apps/jupyter/6.5.4/lib/python3.10/site-packages (from datasets) (3.8.6)\n",
      "Requirement already satisfied: huggingface-hub>=0.19.4 in /apps/jupyter/6.5.4/lib/python3.10/site-packages (from datasets) (0.20.3)\n",
      "Requirement already satisfied: packaging in /apps/jupyter/6.5.4/lib/python3.10/site-packages (from datasets) (23.2)\n",
      "Requirement already satisfied: pyyaml>=5.1 in /apps/jupyter/6.5.4/lib/python3.10/site-packages (from datasets) (6.0.1)\n",
      "Requirement already satisfied: attrs>=17.3.0 in /apps/jupyter/6.5.4/lib/python3.10/site-packages (from aiohttp->datasets) (23.1.0)\n",
      "Requirement already satisfied: charset-normalizer<4.0,>=2.0 in /apps/jupyter/6.5.4/lib/python3.10/site-packages (from aiohttp->datasets) (3.3.2)\n",
      "Requirement already satisfied: multidict<7.0,>=4.5 in /apps/jupyter/6.5.4/lib/python3.10/site-packages (from aiohttp->datasets) (6.0.4)\n",
      "Requirement already satisfied: async-timeout<5.0,>=4.0.0a3 in /apps/jupyter/6.5.4/lib/python3.10/site-packages (from aiohttp->datasets) (4.0.3)\n",
      "Requirement already satisfied: yarl<2.0,>=1.0 in /apps/jupyter/6.5.4/lib/python3.10/site-packages (from aiohttp->datasets) (1.9.2)\n",
      "Requirement already satisfied: frozenlist>=1.1.1 in /apps/jupyter/6.5.4/lib/python3.10/site-packages (from aiohttp->datasets) (1.4.0)\n",
      "Requirement already satisfied: aiosignal>=1.1.2 in /apps/jupyter/6.5.4/lib/python3.10/site-packages (from aiohttp->datasets) (1.3.1)\n",
      "Requirement already satisfied: typing-extensions>=3.7.4.3 in /home/carson.johnson/.local/lib/python3.10/site-packages (from huggingface-hub>=0.19.4->datasets) (4.12.2)\n",
      "Requirement already satisfied: idna<4,>=2.5 in /apps/jupyter/6.5.4/lib/python3.10/site-packages (from requests>=2.19.0->datasets) (3.4)\n",
      "Requirement already satisfied: urllib3<3,>=1.21.1 in /apps/jupyter/6.5.4/lib/python3.10/site-packages (from requests>=2.19.0->datasets) (2.0.7)\n",
      "Requirement already satisfied: certifi>=2017.4.17 in /apps/jupyter/6.5.4/lib/python3.10/site-packages (from requests>=2.19.0->datasets) (2024.2.2)\n",
      "Requirement already satisfied: python-dateutil>=2.8.2 in /apps/jupyter/6.5.4/lib/python3.10/site-packages (from pandas->datasets) (2.8.2)\n",
      "Requirement already satisfied: pytz>=2020.1 in /apps/jupyter/6.5.4/lib/python3.10/site-packages (from pandas->datasets) (2023.3)\n",
      "Requirement already satisfied: tzdata>=2022.1 in /apps/jupyter/6.5.4/lib/python3.10/site-packages (from pandas->datasets) (2023.4)\n",
      "Requirement already satisfied: six>=1.5 in /apps/jupyter/6.5.4/lib/python3.10/site-packages (from python-dateutil>=2.8.2->pandas->datasets) (1.16.0)\n",
      "\u001b[33mWARNING: Ignoring invalid distribution -angchain (/apps/jupyter/6.5.4/lib/python3.10/site-packages)\u001b[0m\u001b[33m\n",
      "\u001b[0m\u001b[33mWARNING: Ignoring invalid distribution -entence-transformers (/apps/jupyter/6.5.4/lib/python3.10/site-packages)\u001b[0m\u001b[33m\n",
      "\u001b[0m\u001b[33mWARNING: Ignoring invalid distribution -idgetsnbextension (/apps/jupyter/6.5.4/lib/python3.10/site-packages)\u001b[0m\u001b[33m\n",
      "\u001b[0m\u001b[33mWARNING: Ignoring invalid distribution -nstructured (/apps/jupyter/6.5.4/lib/python3.10/site-packages)\u001b[0m\u001b[33m\n",
      "\u001b[0m\u001b[33mWARNING: Ignoring invalid distribution -okenizers (/apps/jupyter/6.5.4/lib/python3.10/site-packages)\u001b[0m\u001b[33m\n",
      "\u001b[0m\u001b[33mWARNING: Ignoring invalid distribution -sspec (/apps/jupyter/6.5.4/lib/python3.10/site-packages)\u001b[0m\u001b[33m\n",
      "\u001b[0m\u001b[33mWARNING: Ignoring invalid distribution -uggingface-hub (/apps/jupyter/6.5.4/lib/python3.10/site-packages)\u001b[0m\u001b[33m\n",
      "\u001b[0m\n",
      "\u001b[1m[\u001b[0m\u001b[34;49mnotice\u001b[0m\u001b[1;39;49m]\u001b[0m\u001b[39;49m A new release of pip is available: \u001b[0m\u001b[31;49m24.1.1\u001b[0m\u001b[39;49m -> \u001b[0m\u001b[32;49m24.3.1\u001b[0m\n",
      "\u001b[1m[\u001b[0m\u001b[34;49mnotice\u001b[0m\u001b[1;39;49m]\u001b[0m\u001b[39;49m To update, run: \u001b[0m\u001b[32;49mpip install --upgrade pip\u001b[0m\n",
      "Defaulting to user installation because normal site-packages is not writeable\n",
      "\u001b[33mWARNING: Ignoring invalid distribution -angchain (/apps/jupyter/6.5.4/lib/python3.10/site-packages)\u001b[0m\u001b[33m\n",
      "\u001b[0m\u001b[33mWARNING: Ignoring invalid distribution -entence-transformers (/apps/jupyter/6.5.4/lib/python3.10/site-packages)\u001b[0m\u001b[33m\n",
      "\u001b[0m\u001b[33mWARNING: Ignoring invalid distribution -idgetsnbextension (/apps/jupyter/6.5.4/lib/python3.10/site-packages)\u001b[0m\u001b[33m\n",
      "\u001b[0m\u001b[33mWARNING: Ignoring invalid distribution -nstructured (/apps/jupyter/6.5.4/lib/python3.10/site-packages)\u001b[0m\u001b[33m\n",
      "\u001b[0m\u001b[33mWARNING: Ignoring invalid distribution -okenizers (/apps/jupyter/6.5.4/lib/python3.10/site-packages)\u001b[0m\u001b[33m\n",
      "\u001b[0m\u001b[33mWARNING: Ignoring invalid distribution -sspec (/apps/jupyter/6.5.4/lib/python3.10/site-packages)\u001b[0m\u001b[33m\n",
      "\u001b[0m\u001b[33mWARNING: Ignoring invalid distribution -uggingface-hub (/apps/jupyter/6.5.4/lib/python3.10/site-packages)\u001b[0m\u001b[33m\n",
      "\u001b[0mRequirement already satisfied: spacy==3.2 in /home/carson.johnson/.local/lib/python3.10/site-packages (3.2.0)\n",
      "Requirement already satisfied: spacy-legacy<3.1.0,>=3.0.8 in /home/carson.johnson/.local/lib/python3.10/site-packages (from spacy==3.2) (3.0.12)\n",
      "Requirement already satisfied: spacy-loggers<2.0.0,>=1.0.0 in /home/carson.johnson/.local/lib/python3.10/site-packages (from spacy==3.2) (1.0.5)\n",
      "Requirement already satisfied: murmurhash<1.1.0,>=0.28.0 in /home/carson.johnson/.local/lib/python3.10/site-packages (from spacy==3.2) (1.0.10)\n",
      "Requirement already satisfied: cymem<2.1.0,>=2.0.2 in /home/carson.johnson/.local/lib/python3.10/site-packages (from spacy==3.2) (2.0.8)\n",
      "Requirement already satisfied: preshed<3.1.0,>=3.0.2 in /home/carson.johnson/.local/lib/python3.10/site-packages (from spacy==3.2) (3.0.9)\n",
      "Requirement already satisfied: thinc<8.1.0,>=8.0.12 in /home/carson.johnson/.local/lib/python3.10/site-packages (from spacy==3.2) (8.0.17)\n",
      "Requirement already satisfied: blis<0.8.0,>=0.4.0 in /home/carson.johnson/.local/lib/python3.10/site-packages (from spacy==3.2) (0.7.11)\n",
      "Requirement already satisfied: wasabi<1.1.0,>=0.8.1 in /home/carson.johnson/.local/lib/python3.10/site-packages (from spacy==3.2) (0.10.1)\n",
      "Requirement already satisfied: srsly<3.0.0,>=2.4.1 in /home/carson.johnson/.local/lib/python3.10/site-packages (from spacy==3.2) (2.4.8)\n",
      "Requirement already satisfied: catalogue<2.1.0,>=2.0.6 in /home/carson.johnson/.local/lib/python3.10/site-packages (from spacy==3.2) (2.0.10)\n",
      "Requirement already satisfied: typer<0.5.0,>=0.3.0 in /home/carson.johnson/.local/lib/python3.10/site-packages (from spacy==3.2) (0.4.2)\n",
      "Requirement already satisfied: pathy>=0.3.5 in /home/carson.johnson/.local/lib/python3.10/site-packages (from spacy==3.2) (0.11.0)\n",
      "Requirement already satisfied: tqdm<5.0.0,>=4.38.0 in /apps/jupyter/6.5.4/lib/python3.10/site-packages (from spacy==3.2) (4.66.1)\n",
      "Requirement already satisfied: numpy>=1.15.0 in /apps/jupyter/6.5.4/lib/python3.10/site-packages (from spacy==3.2) (1.24.1)\n",
      "Requirement already satisfied: requests<3.0.0,>=2.13.0 in /apps/jupyter/6.5.4/lib/python3.10/site-packages (from spacy==3.2) (2.31.0)\n",
      "Requirement already satisfied: pydantic!=1.8,!=1.8.1,<1.9.0,>=1.7.4 in /home/carson.johnson/.local/lib/python3.10/site-packages (from spacy==3.2) (1.8.2)\n",
      "Requirement already satisfied: jinja2 in /apps/jupyter/6.5.4/lib/python3.10/site-packages (from spacy==3.2) (3.1.2)\n",
      "Requirement already satisfied: setuptools in /apps/jupyter/6.5.4/lib/python3.10/site-packages (from spacy==3.2) (68.0.0)\n",
      "Requirement already satisfied: packaging>=20.0 in /apps/jupyter/6.5.4/lib/python3.10/site-packages (from spacy==3.2) (23.2)\n",
      "Requirement already satisfied: langcodes<4.0.0,>=3.2.0 in /home/carson.johnson/.local/lib/python3.10/site-packages (from spacy==3.2) (3.4.0)\n",
      "Requirement already satisfied: language-data>=1.2 in /home/carson.johnson/.local/lib/python3.10/site-packages (from langcodes<4.0.0,>=3.2.0->spacy==3.2) (1.2.0)\n",
      "Requirement already satisfied: smart-open<7.0.0,>=5.2.1 in /home/carson.johnson/.local/lib/python3.10/site-packages (from pathy>=0.3.5->spacy==3.2) (6.4.0)\n",
      "Requirement already satisfied: pathlib-abc==0.1.1 in /home/carson.johnson/.local/lib/python3.10/site-packages (from pathy>=0.3.5->spacy==3.2) (0.1.1)\n",
      "Requirement already satisfied: typing-extensions>=3.7.4.3 in /home/carson.johnson/.local/lib/python3.10/site-packages (from pydantic!=1.8,!=1.8.1,<1.9.0,>=1.7.4->spacy==3.2) (4.12.2)\n",
      "Requirement already satisfied: charset-normalizer<4,>=2 in /apps/jupyter/6.5.4/lib/python3.10/site-packages (from requests<3.0.0,>=2.13.0->spacy==3.2) (3.3.2)\n",
      "Requirement already satisfied: idna<4,>=2.5 in /apps/jupyter/6.5.4/lib/python3.10/site-packages (from requests<3.0.0,>=2.13.0->spacy==3.2) (3.4)\n",
      "Requirement already satisfied: urllib3<3,>=1.21.1 in /apps/jupyter/6.5.4/lib/python3.10/site-packages (from requests<3.0.0,>=2.13.0->spacy==3.2) (2.0.7)\n",
      "Requirement already satisfied: certifi>=2017.4.17 in /apps/jupyter/6.5.4/lib/python3.10/site-packages (from requests<3.0.0,>=2.13.0->spacy==3.2) (2024.2.2)\n",
      "Requirement already satisfied: click<9.0.0,>=7.1.1 in /apps/jupyter/6.5.4/lib/python3.10/site-packages (from typer<0.5.0,>=0.3.0->spacy==3.2) (8.1.7)\n",
      "Requirement already satisfied: MarkupSafe>=2.0 in /apps/jupyter/6.5.4/lib/python3.10/site-packages (from jinja2->spacy==3.2) (2.1.3)\n",
      "Requirement already satisfied: marisa-trie>=0.7.7 in /home/carson.johnson/.local/lib/python3.10/site-packages (from language-data>=1.2->langcodes<4.0.0,>=3.2.0->spacy==3.2) (1.2.0)\n",
      "\u001b[33mWARNING: Ignoring invalid distribution -angchain (/apps/jupyter/6.5.4/lib/python3.10/site-packages)\u001b[0m\u001b[33m\n",
      "\u001b[0m\u001b[33mWARNING: Ignoring invalid distribution -entence-transformers (/apps/jupyter/6.5.4/lib/python3.10/site-packages)\u001b[0m\u001b[33m\n",
      "\u001b[0m\u001b[33mWARNING: Ignoring invalid distribution -idgetsnbextension (/apps/jupyter/6.5.4/lib/python3.10/site-packages)\u001b[0m\u001b[33m\n",
      "\u001b[0m\u001b[33mWARNING: Ignoring invalid distribution -nstructured (/apps/jupyter/6.5.4/lib/python3.10/site-packages)\u001b[0m\u001b[33m\n",
      "\u001b[0m\u001b[33mWARNING: Ignoring invalid distribution -okenizers (/apps/jupyter/6.5.4/lib/python3.10/site-packages)\u001b[0m\u001b[33m\n",
      "\u001b[0m\u001b[33mWARNING: Ignoring invalid distribution -sspec (/apps/jupyter/6.5.4/lib/python3.10/site-packages)\u001b[0m\u001b[33m\n",
      "\u001b[0m\u001b[33mWARNING: Ignoring invalid distribution -uggingface-hub (/apps/jupyter/6.5.4/lib/python3.10/site-packages)\u001b[0m\u001b[33m\n",
      "\u001b[0m\n",
      "\u001b[1m[\u001b[0m\u001b[34;49mnotice\u001b[0m\u001b[1;39;49m]\u001b[0m\u001b[39;49m A new release of pip is available: \u001b[0m\u001b[31;49m24.1.1\u001b[0m\u001b[39;49m -> \u001b[0m\u001b[32;49m24.3.1\u001b[0m\n",
      "\u001b[1m[\u001b[0m\u001b[34;49mnotice\u001b[0m\u001b[1;39;49m]\u001b[0m\u001b[39;49m To update, run: \u001b[0m\u001b[32;49mpip install --upgrade pip\u001b[0m\n",
      "Defaulting to user installation because normal site-packages is not writeable\n",
      "\u001b[33mWARNING: Ignoring invalid distribution -angchain (/apps/jupyter/6.5.4/lib/python3.10/site-packages)\u001b[0m\u001b[33m\n",
      "\u001b[0m\u001b[33mWARNING: Ignoring invalid distribution -entence-transformers (/apps/jupyter/6.5.4/lib/python3.10/site-packages)\u001b[0m\u001b[33m\n",
      "\u001b[0m\u001b[33mWARNING: Ignoring invalid distribution -idgetsnbextension (/apps/jupyter/6.5.4/lib/python3.10/site-packages)\u001b[0m\u001b[33m\n",
      "\u001b[0m\u001b[33mWARNING: Ignoring invalid distribution -nstructured (/apps/jupyter/6.5.4/lib/python3.10/site-packages)\u001b[0m\u001b[33m\n",
      "\u001b[0m\u001b[33mWARNING: Ignoring invalid distribution -okenizers (/apps/jupyter/6.5.4/lib/python3.10/site-packages)\u001b[0m\u001b[33m\n",
      "\u001b[0m\u001b[33mWARNING: Ignoring invalid distribution -sspec (/apps/jupyter/6.5.4/lib/python3.10/site-packages)\u001b[0m\u001b[33m\n",
      "\u001b[0m\u001b[33mWARNING: Ignoring invalid distribution -uggingface-hub (/apps/jupyter/6.5.4/lib/python3.10/site-packages)\u001b[0m\u001b[33m\n",
      "\u001b[0mRequirement already satisfied: transformers in /apps/jupyter/6.5.4/lib/python3.10/site-packages (4.33.2)\n",
      "Requirement already satisfied: filelock in /apps/jupyter/6.5.4/lib/python3.10/site-packages (from transformers) (3.9.0)\n",
      "Requirement already satisfied: huggingface-hub<1.0,>=0.15.1 in /apps/jupyter/6.5.4/lib/python3.10/site-packages (from transformers) (0.20.3)\n",
      "Requirement already satisfied: numpy>=1.17 in /apps/jupyter/6.5.4/lib/python3.10/site-packages (from transformers) (1.24.1)\n",
      "Requirement already satisfied: packaging>=20.0 in /apps/jupyter/6.5.4/lib/python3.10/site-packages (from transformers) (23.2)\n",
      "Requirement already satisfied: pyyaml>=5.1 in /apps/jupyter/6.5.4/lib/python3.10/site-packages (from transformers) (6.0.1)\n",
      "Requirement already satisfied: regex!=2019.12.17 in /apps/jupyter/6.5.4/lib/python3.10/site-packages (from transformers) (2023.10.3)\n",
      "Requirement already satisfied: requests in /apps/jupyter/6.5.4/lib/python3.10/site-packages (from transformers) (2.31.0)\n",
      "Requirement already satisfied: tokenizers!=0.11.3,<0.14,>=0.11.1 in /apps/jupyter/6.5.4/lib/python3.10/site-packages (from transformers) (0.13.3)\n",
      "Requirement already satisfied: safetensors>=0.3.1 in /apps/jupyter/6.5.4/lib/python3.10/site-packages (from transformers) (0.4.1)\n",
      "Requirement already satisfied: tqdm>=4.27 in /apps/jupyter/6.5.4/lib/python3.10/site-packages (from transformers) (4.66.1)\n",
      "Requirement already satisfied: fsspec>=2023.5.0 in /apps/jupyter/6.5.4/lib/python3.10/site-packages (from huggingface-hub<1.0,>=0.15.1->transformers) (2023.10.0)\n",
      "Requirement already satisfied: typing-extensions>=3.7.4.3 in /home/carson.johnson/.local/lib/python3.10/site-packages (from huggingface-hub<1.0,>=0.15.1->transformers) (4.12.2)\n",
      "Requirement already satisfied: charset-normalizer<4,>=2 in /apps/jupyter/6.5.4/lib/python3.10/site-packages (from requests->transformers) (3.3.2)\n",
      "Requirement already satisfied: idna<4,>=2.5 in /apps/jupyter/6.5.4/lib/python3.10/site-packages (from requests->transformers) (3.4)\n",
      "Requirement already satisfied: urllib3<3,>=1.21.1 in /apps/jupyter/6.5.4/lib/python3.10/site-packages (from requests->transformers) (2.0.7)\n",
      "Requirement already satisfied: certifi>=2017.4.17 in /apps/jupyter/6.5.4/lib/python3.10/site-packages (from requests->transformers) (2024.2.2)\n",
      "\u001b[33mWARNING: Ignoring invalid distribution -angchain (/apps/jupyter/6.5.4/lib/python3.10/site-packages)\u001b[0m\u001b[33m\n",
      "\u001b[0m\u001b[33mWARNING: Ignoring invalid distribution -entence-transformers (/apps/jupyter/6.5.4/lib/python3.10/site-packages)\u001b[0m\u001b[33m\n",
      "\u001b[0m\u001b[33mWARNING: Ignoring invalid distribution -idgetsnbextension (/apps/jupyter/6.5.4/lib/python3.10/site-packages)\u001b[0m\u001b[33m\n",
      "\u001b[0m\u001b[33mWARNING: Ignoring invalid distribution -nstructured (/apps/jupyter/6.5.4/lib/python3.10/site-packages)\u001b[0m\u001b[33m\n",
      "\u001b[0m\u001b[33mWARNING: Ignoring invalid distribution -okenizers (/apps/jupyter/6.5.4/lib/python3.10/site-packages)\u001b[0m\u001b[33m\n",
      "\u001b[0m\u001b[33mWARNING: Ignoring invalid distribution -sspec (/apps/jupyter/6.5.4/lib/python3.10/site-packages)\u001b[0m\u001b[33m\n",
      "\u001b[0m\u001b[33mWARNING: Ignoring invalid distribution -uggingface-hub (/apps/jupyter/6.5.4/lib/python3.10/site-packages)\u001b[0m\u001b[33m\n",
      "\u001b[0m\n",
      "\u001b[1m[\u001b[0m\u001b[34;49mnotice\u001b[0m\u001b[1;39;49m]\u001b[0m\u001b[39;49m A new release of pip is available: \u001b[0m\u001b[31;49m24.1.1\u001b[0m\u001b[39;49m -> \u001b[0m\u001b[32;49m24.3.1\u001b[0m\n",
      "\u001b[1m[\u001b[0m\u001b[34;49mnotice\u001b[0m\u001b[1;39;49m]\u001b[0m\u001b[39;49m To update, run: \u001b[0m\u001b[32;49mpip install --upgrade pip\u001b[0m\n",
      "Defaulting to user installation because normal site-packages is not writeable\n",
      "\u001b[33mWARNING: Ignoring invalid distribution -angchain (/apps/jupyter/6.5.4/lib/python3.10/site-packages)\u001b[0m\u001b[33m\n",
      "\u001b[0m\u001b[33mWARNING: Ignoring invalid distribution -entence-transformers (/apps/jupyter/6.5.4/lib/python3.10/site-packages)\u001b[0m\u001b[33m\n",
      "\u001b[0m\u001b[33mWARNING: Ignoring invalid distribution -idgetsnbextension (/apps/jupyter/6.5.4/lib/python3.10/site-packages)\u001b[0m\u001b[33m\n",
      "\u001b[0m\u001b[33mWARNING: Ignoring invalid distribution -nstructured (/apps/jupyter/6.5.4/lib/python3.10/site-packages)\u001b[0m\u001b[33m\n",
      "\u001b[0m\u001b[33mWARNING: Ignoring invalid distribution -okenizers (/apps/jupyter/6.5.4/lib/python3.10/site-packages)\u001b[0m\u001b[33m\n",
      "\u001b[0m\u001b[33mWARNING: Ignoring invalid distribution -sspec (/apps/jupyter/6.5.4/lib/python3.10/site-packages)\u001b[0m\u001b[33m\n",
      "\u001b[0m\u001b[33mWARNING: Ignoring invalid distribution -uggingface-hub (/apps/jupyter/6.5.4/lib/python3.10/site-packages)\u001b[0m\u001b[33m\n",
      "\u001b[0mRequirement already satisfied: sentence-transformers in /apps/jupyter/6.5.4/lib/python3.10/site-packages (2.3.1)\n",
      "Requirement already satisfied: transformers<5.0.0,>=4.32.0 in /apps/jupyter/6.5.4/lib/python3.10/site-packages (from sentence-transformers) (4.33.2)\n",
      "Requirement already satisfied: tqdm in /apps/jupyter/6.5.4/lib/python3.10/site-packages (from sentence-transformers) (4.66.1)\n",
      "Requirement already satisfied: torch>=1.11.0 in /apps/jupyter/6.5.4/lib/python3.10/site-packages (from sentence-transformers) (2.3.0)\n",
      "Requirement already satisfied: numpy in /apps/jupyter/6.5.4/lib/python3.10/site-packages (from sentence-transformers) (1.24.1)\n",
      "Requirement already satisfied: scikit-learn in /home/carson.johnson/.local/lib/python3.10/site-packages (from sentence-transformers) (1.5.2)\n",
      "Requirement already satisfied: scipy in /apps/jupyter/6.5.4/lib/python3.10/site-packages (from sentence-transformers) (1.12.0)\n",
      "Requirement already satisfied: nltk in /apps/jupyter/6.5.4/lib/python3.10/site-packages (from sentence-transformers) (3.8.1)\n",
      "Requirement already satisfied: sentencepiece in /apps/jupyter/6.5.4/lib/python3.10/site-packages (from sentence-transformers) (0.1.99)\n",
      "Requirement already satisfied: huggingface-hub>=0.15.1 in /apps/jupyter/6.5.4/lib/python3.10/site-packages (from sentence-transformers) (0.20.3)\n",
      "Requirement already satisfied: Pillow in /apps/jupyter/6.5.4/lib/python3.10/site-packages (from sentence-transformers) (9.3.0)\n",
      "Requirement already satisfied: filelock in /apps/jupyter/6.5.4/lib/python3.10/site-packages (from huggingface-hub>=0.15.1->sentence-transformers) (3.9.0)\n",
      "Requirement already satisfied: fsspec>=2023.5.0 in /apps/jupyter/6.5.4/lib/python3.10/site-packages (from huggingface-hub>=0.15.1->sentence-transformers) (2023.10.0)\n",
      "Requirement already satisfied: requests in /apps/jupyter/6.5.4/lib/python3.10/site-packages (from huggingface-hub>=0.15.1->sentence-transformers) (2.31.0)\n",
      "Requirement already satisfied: pyyaml>=5.1 in /apps/jupyter/6.5.4/lib/python3.10/site-packages (from huggingface-hub>=0.15.1->sentence-transformers) (6.0.1)\n",
      "Requirement already satisfied: typing-extensions>=3.7.4.3 in /home/carson.johnson/.local/lib/python3.10/site-packages (from huggingface-hub>=0.15.1->sentence-transformers) (4.12.2)\n",
      "Requirement already satisfied: packaging>=20.9 in /apps/jupyter/6.5.4/lib/python3.10/site-packages (from huggingface-hub>=0.15.1->sentence-transformers) (23.2)\n",
      "Requirement already satisfied: sympy in /apps/jupyter/6.5.4/lib/python3.10/site-packages (from torch>=1.11.0->sentence-transformers) (1.12)\n",
      "Requirement already satisfied: networkx in /apps/jupyter/6.5.4/lib/python3.10/site-packages (from torch>=1.11.0->sentence-transformers) (3.0)\n",
      "Requirement already satisfied: jinja2 in /apps/jupyter/6.5.4/lib/python3.10/site-packages (from torch>=1.11.0->sentence-transformers) (3.1.2)\n",
      "Requirement already satisfied: nvidia-cuda-nvrtc-cu12==12.1.105 in /apps/jupyter/6.5.4/lib/python3.10/site-packages (from torch>=1.11.0->sentence-transformers) (12.1.105)\n",
      "Requirement already satisfied: nvidia-cuda-runtime-cu12==12.1.105 in /apps/jupyter/6.5.4/lib/python3.10/site-packages (from torch>=1.11.0->sentence-transformers) (12.1.105)\n",
      "Requirement already satisfied: nvidia-cuda-cupti-cu12==12.1.105 in /apps/jupyter/6.5.4/lib/python3.10/site-packages (from torch>=1.11.0->sentence-transformers) (12.1.105)\n",
      "Requirement already satisfied: nvidia-cudnn-cu12==8.9.2.26 in /apps/jupyter/6.5.4/lib/python3.10/site-packages (from torch>=1.11.0->sentence-transformers) (8.9.2.26)\n",
      "Requirement already satisfied: nvidia-cublas-cu12==12.1.3.1 in /apps/jupyter/6.5.4/lib/python3.10/site-packages (from torch>=1.11.0->sentence-transformers) (12.1.3.1)\n",
      "Requirement already satisfied: nvidia-cufft-cu12==11.0.2.54 in /apps/jupyter/6.5.4/lib/python3.10/site-packages (from torch>=1.11.0->sentence-transformers) (11.0.2.54)\n",
      "Requirement already satisfied: nvidia-curand-cu12==10.3.2.106 in /apps/jupyter/6.5.4/lib/python3.10/site-packages (from torch>=1.11.0->sentence-transformers) (10.3.2.106)\n",
      "Requirement already satisfied: nvidia-cusolver-cu12==11.4.5.107 in /apps/jupyter/6.5.4/lib/python3.10/site-packages (from torch>=1.11.0->sentence-transformers) (11.4.5.107)\n",
      "Requirement already satisfied: nvidia-cusparse-cu12==12.1.0.106 in /apps/jupyter/6.5.4/lib/python3.10/site-packages (from torch>=1.11.0->sentence-transformers) (12.1.0.106)\n",
      "Requirement already satisfied: nvidia-nccl-cu12==2.20.5 in /apps/jupyter/6.5.4/lib/python3.10/site-packages (from torch>=1.11.0->sentence-transformers) (2.20.5)\n",
      "Requirement already satisfied: nvidia-nvtx-cu12==12.1.105 in /apps/jupyter/6.5.4/lib/python3.10/site-packages (from torch>=1.11.0->sentence-transformers) (12.1.105)\n",
      "Requirement already satisfied: triton==2.3.0 in /apps/jupyter/6.5.4/lib/python3.10/site-packages (from torch>=1.11.0->sentence-transformers) (2.3.0)\n",
      "Requirement already satisfied: nvidia-nvjitlink-cu12 in /apps/jupyter/6.5.4/lib/python3.10/site-packages (from nvidia-cusolver-cu12==11.4.5.107->torch>=1.11.0->sentence-transformers) (12.3.101)\n",
      "Requirement already satisfied: regex!=2019.12.17 in /apps/jupyter/6.5.4/lib/python3.10/site-packages (from transformers<5.0.0,>=4.32.0->sentence-transformers) (2023.10.3)\n",
      "Requirement already satisfied: tokenizers!=0.11.3,<0.14,>=0.11.1 in /apps/jupyter/6.5.4/lib/python3.10/site-packages (from transformers<5.0.0,>=4.32.0->sentence-transformers) (0.13.3)\n",
      "Requirement already satisfied: safetensors>=0.3.1 in /apps/jupyter/6.5.4/lib/python3.10/site-packages (from transformers<5.0.0,>=4.32.0->sentence-transformers) (0.4.1)\n",
      "Requirement already satisfied: click in /apps/jupyter/6.5.4/lib/python3.10/site-packages (from nltk->sentence-transformers) (8.1.7)\n",
      "Requirement already satisfied: joblib in /apps/jupyter/6.5.4/lib/python3.10/site-packages (from nltk->sentence-transformers) (1.3.2)\n",
      "Requirement already satisfied: threadpoolctl>=3.1.0 in /apps/jupyter/6.5.4/lib/python3.10/site-packages (from scikit-learn->sentence-transformers) (3.2.0)\n",
      "Requirement already satisfied: MarkupSafe>=2.0 in /apps/jupyter/6.5.4/lib/python3.10/site-packages (from jinja2->torch>=1.11.0->sentence-transformers) (2.1.3)\n",
      "Requirement already satisfied: charset-normalizer<4,>=2 in /apps/jupyter/6.5.4/lib/python3.10/site-packages (from requests->huggingface-hub>=0.15.1->sentence-transformers) (3.3.2)\n",
      "Requirement already satisfied: idna<4,>=2.5 in /apps/jupyter/6.5.4/lib/python3.10/site-packages (from requests->huggingface-hub>=0.15.1->sentence-transformers) (3.4)\n",
      "Requirement already satisfied: urllib3<3,>=1.21.1 in /apps/jupyter/6.5.4/lib/python3.10/site-packages (from requests->huggingface-hub>=0.15.1->sentence-transformers) (2.0.7)\n",
      "Requirement already satisfied: certifi>=2017.4.17 in /apps/jupyter/6.5.4/lib/python3.10/site-packages (from requests->huggingface-hub>=0.15.1->sentence-transformers) (2024.2.2)\n",
      "Requirement already satisfied: mpmath>=0.19 in /apps/jupyter/6.5.4/lib/python3.10/site-packages (from sympy->torch>=1.11.0->sentence-transformers) (1.3.0)\n",
      "\u001b[33mWARNING: Ignoring invalid distribution -angchain (/apps/jupyter/6.5.4/lib/python3.10/site-packages)\u001b[0m\u001b[33m\n",
      "\u001b[0m\u001b[33mWARNING: Ignoring invalid distribution -entence-transformers (/apps/jupyter/6.5.4/lib/python3.10/site-packages)\u001b[0m\u001b[33m\n",
      "\u001b[0m\u001b[33mWARNING: Ignoring invalid distribution -idgetsnbextension (/apps/jupyter/6.5.4/lib/python3.10/site-packages)\u001b[0m\u001b[33m\n",
      "\u001b[0m\u001b[33mWARNING: Ignoring invalid distribution -nstructured (/apps/jupyter/6.5.4/lib/python3.10/site-packages)\u001b[0m\u001b[33m\n",
      "\u001b[0m\u001b[33mWARNING: Ignoring invalid distribution -okenizers (/apps/jupyter/6.5.4/lib/python3.10/site-packages)\u001b[0m\u001b[33m\n",
      "\u001b[0m\u001b[33mWARNING: Ignoring invalid distribution -sspec (/apps/jupyter/6.5.4/lib/python3.10/site-packages)\u001b[0m\u001b[33m\n",
      "\u001b[0m\u001b[33mWARNING: Ignoring invalid distribution -uggingface-hub (/apps/jupyter/6.5.4/lib/python3.10/site-packages)\u001b[0m\u001b[33m\n",
      "\u001b[0m\n",
      "\u001b[1m[\u001b[0m\u001b[34;49mnotice\u001b[0m\u001b[1;39;49m]\u001b[0m\u001b[39;49m A new release of pip is available: \u001b[0m\u001b[31;49m24.1.1\u001b[0m\u001b[39;49m -> \u001b[0m\u001b[32;49m24.3.1\u001b[0m\n",
      "\u001b[1m[\u001b[0m\u001b[34;49mnotice\u001b[0m\u001b[1;39;49m]\u001b[0m\u001b[39;49m To update, run: \u001b[0m\u001b[32;49mpip install --upgrade pip\u001b[0m\n",
      "Traceback (most recent call last):\n",
      "  File \"/apps/jupyter/6.5.4/lib/python3.10/runpy.py\", line 187, in _run_module_as_main\n",
      "    mod_name, mod_spec, code = _get_module_details(mod_name, _Error)\n",
      "  File \"/apps/jupyter/6.5.4/lib/python3.10/runpy.py\", line 146, in _get_module_details\n",
      "    return _get_module_details(pkg_main_name, error)\n",
      "  File \"/apps/jupyter/6.5.4/lib/python3.10/runpy.py\", line 110, in _get_module_details\n",
      "    __import__(pkg_name)\n",
      "  File \"/home/carson.johnson/.local/lib/python3.10/site-packages/spacy/__init__.py\", line 11, in <module>\n",
      "    from thinc.api import prefer_gpu, require_gpu, require_cpu  # noqa: F401\n",
      "  File \"/home/carson.johnson/.local/lib/python3.10/site-packages/thinc/api.py\", line 2, in <module>\n",
      "    from .initializers import normal_init, uniform_init, glorot_uniform_init, zero_init\n",
      "  File \"/home/carson.johnson/.local/lib/python3.10/site-packages/thinc/initializers.py\", line 4, in <module>\n",
      "    from .backends import Ops\n",
      "  File \"/home/carson.johnson/.local/lib/python3.10/site-packages/thinc/backends/__init__.py\", line 7, in <module>\n",
      "    from .ops import Ops\n",
      "  File \"/home/carson.johnson/.local/lib/python3.10/site-packages/thinc/backends/ops.py\", line 13, in <module>\n",
      "    from ..util import get_array_module, is_xp_array, to_numpy\n",
      "  File \"/home/carson.johnson/.local/lib/python3.10/site-packages/thinc/util.py\", line 29, in <module>\n",
      "    import torch\n",
      "  File \"/apps/jupyter/6.5.4/lib/python3.10/site-packages/torch/__init__.py\", line 1598, in <module>\n",
      "    import torch.utils.data\n",
      "  File \"/apps/jupyter/6.5.4/lib/python3.10/site-packages/torch/utils/data/__init__.py\", line 21, in <module>\n",
      "    from torch.utils.data.datapipes.datapipe import (\n",
      "  File \"/apps/jupyter/6.5.4/lib/python3.10/site-packages/torch/utils/data/datapipes/__init__.py\", line 1, in <module>\n",
      "    from . import iter\n",
      "  File \"/apps/jupyter/6.5.4/lib/python3.10/site-packages/torch/utils/data/datapipes/iter/__init__.py\", line 1, in <module>\n",
      "    from torch.utils.data.datapipes.iter.utils import (\n",
      "  File \"/apps/jupyter/6.5.4/lib/python3.10/site-packages/torch/utils/data/datapipes/iter/utils.py\", line 3, in <module>\n",
      "    from torch.utils.data.datapipes.datapipe import IterDataPipe\n",
      "  File \"/apps/jupyter/6.5.4/lib/python3.10/site-packages/torch/utils/data/datapipes/datapipe.py\", line 15, in <module>\n",
      "    dill = import_dill()\n",
      "  File \"/apps/jupyter/6.5.4/lib/python3.10/site-packages/torch/utils/_import_utils.py\", line 41, in import_dill\n",
      "    dill.extend(use_dill=False)\n",
      "AttributeError: module 'dill' has no attribute 'extend'\n"
     ]
    },
    {
     "data": {
      "text/html": [
       "<script>Jupyter.notebook.kernel.restart()</script>"
      ],
      "text/plain": [
       "<IPython.core.display.HTML object>"
      ]
     },
     "execution_count": 1,
     "metadata": {},
     "output_type": "execute_result"
    }
   ],
   "source": [
    "#@title Run this cell to install required dependencies.\n",
    "#Note: We use spacy 3.2 (instead of 3.3) as our dataset is more\n",
    "#compatible with earlier lemmatization/tokenization conventions.\n",
    "!pip install datasets\n",
    "!pip install --upgrade spacy==3.2\n",
    "!pip install transformers\n",
    "!pip install sentence-transformers\n",
    "!python -m spacy download en_core_web_md\n",
    "\n",
    "from IPython.core.display import HTML\n",
    "HTML(\"<script>Jupyter.notebook.kernel.restart()</script>\")\n",
    "\n",
    "\n",
    "# If using colab, keep these lines (lines 4-8) uncommented\n",
    "# If using hipergator, comment out the above lines."
   ]
  },
  {
   "cell_type": "markdown",
   "metadata": {
    "id": "TCoL-XiqaQDd"
   },
   "source": [
    "# Part 1 - Downloading and sampling the dataset\n",
    "\n",
    "In Project 0 you were introduced to **[AG's corpus of news articles](http://groups.di.unipi.it/~gulli/AG_corpus_of_news_articles.html)** which is a collection of more than 1 Million News Articles, extracted from more than 2000 news resources within a span of one year. We will download and sample this dataset, which is labeled with 4 news categories:\n",
    "0. World\n",
    "1. Sports\n",
    "2. Business\n",
    "3. Sci/Tech"
   ]
  },
  {
   "cell_type": "markdown",
   "metadata": {
    "id": "IZMwhnVFhR9y"
   },
   "source": [
    "## 1.1 Download the Dataset\n",
    "\n",
    "**Execute the commands below to download the dataset:**"
   ]
  },
  {
   "cell_type": "code",
   "execution_count": 2,
   "metadata": {
    "id": "C_5mAVp9agYd",
    "tags": []
   },
   "outputs": [
    {
     "name": "stderr",
     "output_type": "stream",
     "text": [
      "Found cached dataset parquet (/home/carson.johnson/.cache/huggingface/datasets/parquet/ag_news-f4012edcb412d6fa/0.0.0/2a3b91fbd88a2c90d1dbbb32b460cf621d31bd5b05b934492fdef7d8d6f236ec)\n"
     ]
    },
    {
     "data": {
      "application/vnd.jupyter.widget-view+json": {
       "model_id": "07ab8f42c49b4565a1f77344815d3e31",
       "version_major": 2,
       "version_minor": 0
      },
      "text/plain": [
       "  0%|          | 0/2 [00:00<?, ?it/s]"
      ]
     },
     "metadata": {},
     "output_type": "display_data"
    }
   ],
   "source": [
    "#@title Run this cell to download the dataset. (Do not edit code.)\n",
    "from datasets import load_dataset\n",
    "import pandas as pd\n",
    "\n",
    "dataset = load_dataset(\"ag_news\")\n",
    "train = dataset.get(\"train\").to_pandas().rename(columns={\"label\": \"category\"})\n",
    "test =  dataset.get(\"test\").to_pandas().rename(columns={\"label\": \"category\"})"
   ]
  },
  {
   "cell_type": "markdown",
   "metadata": {
    "id": "_bsTac-ZbQjo"
   },
   "source": [
    "## 1.2 Sample the dataset\n",
    "\n",
    "**Next we execute the commands below to extract a small subsample of the dataset so that we can perform the following programming exercises quickly.**\n",
    "\n",
    "In practice we would work with the entire dataset to get better accuracy."
   ]
  },
  {
   "cell_type": "code",
   "execution_count": 3,
   "metadata": {
    "id": "2iU0Shi0bTk2",
    "tags": []
   },
   "outputs": [],
   "source": [
    "#@title Run this cell to sample the dataset. (Do not edit code.)\n",
    "train = train.sample(frac=0.001, random_state=1).reset_index(drop=True)\n",
    "test = test.sample(frac=0.01, random_state=1).reset_index(drop=True)"
   ]
  },
  {
   "cell_type": "markdown",
   "metadata": {
    "id": "BU0b4bZObXzp"
   },
   "source": [
    "# Part 2 - Text preprocessing\n",
    "\n",
    "To reduce noise in the data, we perform text preprocessing as described in Project 0. A good read for preprocessing steps is **Chapter 2: Regular expressions, text normalizations, edit distance**. Below we will run preprocessing methods for:\n",
    "\n",
    "1. Tokenization\n",
    "2. Punctuation removal\n",
    "3. Stop word removal  \n",
    "4. Word lemmatization  "
   ]
  },
  {
   "cell_type": "markdown",
   "metadata": {
    "id": "bkg53u3Xhjn2"
   },
   "source": [
    "## 2.1. Tokenization\n",
    "\n",
    "**Execute the commands below to tokenize an example, saving the variable \"tokens\" for later steps.**\n"
   ]
  },
  {
   "cell_type": "code",
   "execution_count": 4,
   "metadata": {
    "id": "x-iDVQnxbgYy",
    "tags": []
   },
   "outputs": [
    {
     "name": "stderr",
     "output_type": "stream",
     "text": [
      "/blue/cap4641/share/conda/envs/cap4641/lib/python3.9/site-packages/torch/__init__.py:955: UserWarning: torch.set_default_tensor_type() is deprecated as of PyTorch 2.1, please use torch.set_default_dtype() and torch.set_default_device() as alternatives. (Triggered internally at /home/conda/feedstock_root/build_artifacts/libtorch_1724640795723/work/torch/csrc/tensor/python_tensor.cpp:432.)\n",
      "  _C._set_default_tensor_type(t)\n"
     ]
    }
   ],
   "source": [
    "#@title Run this cell to import dependencies for tokenization. (Do not edit code.)\n",
    "import spacy\n",
    "from spacy.tokens.token import Token\n",
    "import string\n",
    "from typing import List\n",
    "nlp = spacy.load(\"en_core_web_md\")\n",
    "sample_text = \"These are a series of demos, to show how& to use spacy **for** preprocessing tasks!\""
   ]
  },
  {
   "cell_type": "code",
   "execution_count": 5,
   "metadata": {
    "id": "4KOMS1yKbhfz",
    "tags": []
   },
   "outputs": [
    {
     "name": "stdout",
     "output_type": "stream",
     "text": [
      "Tokenizer output:  [These, are, a, series, of, demos, ,, to, show, how, &, to, use, spacy, *, *, for, *, *, preprocessing, tasks, !]\n",
      "Split output:  ['These', 'are', 'a', 'series', 'of', 'demos,', 'to', 'show', 'how&', 'to', 'use', 'spacy', '**for**', 'preprocessing', 'tasks!']\n"
     ]
    }
   ],
   "source": [
    "#@title Run this cell to define and execute function for tokenization. (Do not edit code.)\n",
    "def tokenize(text: str) -> List[Token]:\n",
    "    doc = nlp(text) # spacy converts the given text into a list of tokens\n",
    "    return [w for w in doc]\n",
    "\n",
    "print(\"Tokenizer output: \", tokenize(sample_text))\n",
    "print(\"Split output: \", sample_text.split(\" \"))"
   ]
  },
  {
   "cell_type": "code",
   "execution_count": 6,
   "metadata": {
    "id": "rsFSJAmDboe7",
    "tags": []
   },
   "outputs": [],
   "source": [
    "# We will be using this tokens variable throughout the rest of the pre-processing example\n",
    "tokens = tokenize(sample_text)"
   ]
  },
  {
   "cell_type": "markdown",
   "metadata": {
    "id": "r2Mpwc0Ebw_s"
   },
   "source": [
    "## 2.2. Punctuation and stopword removal.\n",
    "\n",
    "**Execute the commands below to define functions for punctuation and stopword removal.**\n"
   ]
  },
  {
   "cell_type": "code",
   "execution_count": 7,
   "metadata": {
    "id": "0CmHj4OqcAvV",
    "tags": []
   },
   "outputs": [],
   "source": [
    "#@title Run this cell to define functions for punctuation and stopword removal. (Do not edit code.)\n",
    "def remove_punctuation(tokens: List[Token]) -> List[Token]:\n",
    "    return [t for t in tokens if t.text not in string.punctuation]\n",
    "def remove_stop_words(tokens: List[Token]) -> List[Token]:\n",
    "    return [t for t in tokens if not t.is_stop]\n"
   ]
  },
  {
   "cell_type": "markdown",
   "metadata": {
    "id": "nR4yh9MqcdUX"
   },
   "source": [
    "## 2.3 Text Lemmatization\n",
    "\n",
    "**Execute the commands below for lemmatization.**\n"
   ]
  },
  {
   "cell_type": "code",
   "execution_count": 8,
   "metadata": {
    "id": "i5YZeN14cijc",
    "tags": []
   },
   "outputs": [],
   "source": [
    "#@title Run this cell to define function for lemmatization. (Do not edit code.)\n",
    "def lemmatize(tokens: List[Token]) -> List[str]:\n",
    "    return [t.lemma_ for t in tokens]\n"
   ]
  },
  {
   "cell_type": "markdown",
   "metadata": {
    "id": "s0Jh7pQThu8v"
   },
   "source": [
    "# Part 3 - Similarity Algorithms\n",
    "\n",
    "Now we'll use a few techniques to determine how similar two documents are. We'll then use these similarity measures to find the most similar document in the training dataset to any given document."
   ]
  },
  {
   "cell_type": "markdown",
   "metadata": {
    "id": "Fw-hRI3FcozP"
   },
   "source": [
    "## 3.1. Jaccard Similarity\n",
    "\n",
    "> The completion of this section prepares you to answer question 1 and 2 on **Project 2 Quiz questions**.\n",
    "\n",
    "Jaccard similarity is a statistical measure to gauge similarity and diversity among different sets. In NLP applications, Jaccard similarity has been applied to determine:\n",
    "1. Character-level similarity\n",
    "2. Word-level similarity\n",
    "3. Sentence-level similarity\n",
    "\n",
    "In general, character-based similarity is less meaningful, as character counts are not necessarily indicative of linguistic structure or meaning. By contrast, applying Jaccard at the word or sentence level supports similarity detection where meaningful units (words, sentences) are repeatedly used in the data set, as in social media texts.\n",
    "\n",
    "In this project we consider the task of topic modeling, where a *word-level similarity* comparison is made over the words as tokens, as extracted from text documents.  A comparison is made for *n*-grams where *n* is the number of adjacent tokens considered per comparison. By default, we use 1-gram for comparisons. A good read for n-grams is **Chapter 3: N-gram Language Models**.\n",
    "\n",
    "We start with Jaccard similarity as a token (word)-based method to perform document similarity. We divide the magnitude of intersection of different tokens (words) among two documents, by the magnitude of the union.\n",
    "\n",
    "Formally,  \n",
    "A = tokens of document1  \n",
    "B = tokens of document2\n",
    "\n",
    "Jaccard Similarity = $\\frac{|A \\cap  B|}{|A \\cup B|}$\n",
    "\n",
    "You may feel free to change the value of n to test and analyse Jaccard's coefficient for varying values of n-grams.\n",
    "Note: In Jaccard Similarity we compare the actual tokens in the document and not their meaning in any way; although this limits the accuracy of this comparison algorithm, it is a first step toward understanding the notion of *semantic similarity*.  \n"
   ]
  },
  {
   "cell_type": "markdown",
   "metadata": {
    "id": "v3RiyGD0c48R"
   },
   "source": [
    "### 3.1.1 Preprocessing for Jaccard Similarity\n",
    "\n",
    "**Execute the code below to perform preprocessing, i.e., to \"clean the data.\"**"
   ]
  },
  {
   "cell_type": "code",
   "execution_count": 9,
   "metadata": {
    "id": "QyXxTj0vc7k8",
    "tags": []
   },
   "outputs": [
    {
     "name": "stdout",
     "output_type": "stream",
     "text": [
      "['series', 'demos', 'use', 'spacy', 'preprocessing', 'task']\n"
     ]
    }
   ],
   "source": [
    "#@title Run this cell to define text preprocessing. (Do not edit code.)\n",
    "def preprocess_text_jaccard(text) -> List[str]:\n",
    "    \"\"\"\n",
    "    This function expects an object of type string and returns a list of lemmas\n",
    "    after removing puctuations and stop words\n",
    "\n",
    "    :param text: an object of type string\n",
    "    :return: List of type string\n",
    "    \"\"\"\n",
    "    tokens = tokenize(text)\n",
    "    tokens = remove_punctuation(tokens)\n",
    "    tokens = remove_stop_words(tokens)\n",
    "    tokens = lemmatize(tokens)\n",
    "\n",
    "    return tokens\n",
    "\n",
    "tokens = preprocess_text_jaccard(sample_text)\n",
    "print(tokens)"
   ]
  },
  {
   "cell_type": "markdown",
   "metadata": {
    "id": "3nTsK1bgc-fh"
   },
   "source": [
    "**Execute the code below to apply the preprocessing on the entire train and test samples (this step could take up to 5 minutes), and then execute the print command.**"
   ]
  },
  {
   "cell_type": "code",
   "execution_count": 10,
   "metadata": {
    "id": "RYXD42e5dBNe",
    "tags": []
   },
   "outputs": [
    {
     "name": "stdout",
     "output_type": "stream",
     "text": [
      "0    [BEA, buzz, Beehive, BURLINGAME, CALIF.--, BEA...\n",
      "1    [Saudi, violence, push, oil, price, Higher, Oi...\n",
      "2    [storm, show, Haiti, 39;s, strait, muddy, wate...\n",
      "3    [crew, fail, find, tree, kill, Beetle, AP, AP,...\n",
      "4    [justice, Light, bad, Stern, stop, 30, game, R...\n",
      "Name: text_processed, dtype: object\n"
     ]
    }
   ],
   "source": [
    "#@title Run this cell for text preprocessing. (Do not edit code.)\n",
    "train[\"text_processed\"] = train[\"text\"].apply(preprocess_text_jaccard)\n",
    "test[\"text_processed\"] = test[\"text\"].apply(preprocess_text_jaccard)\n",
    "print(train[\"text_processed\"].head())"
   ]
  },
  {
   "cell_type": "markdown",
   "metadata": {
    "id": "PYiS47YxdD9i"
   },
   "source": [
    "### 3.1.2 Programming Question #1 (2 points)\n",
    "\n",
    "**Implement Jaccard Similarity by completing the function below, using the formula described above.**\n",
    "\n",
    "<mark>After you have completed the function and executed the tests, make sure to transfer your answer to the .py file provided along with this Notebook.</mark>"
   ]
  },
  {
   "cell_type": "code",
   "execution_count": 11,
   "metadata": {
    "id": "yKyEMvcmdHp8",
    "tags": []
   },
   "outputs": [],
   "source": [
    "#@title Edit this code to implement Jaccard Similarity.\n",
    "from typing import List\n",
    "\n",
    "def jaccard_similarity(source: List[str], target: List[str]) -> float:\n",
    "    \"\"\"\n",
    "    This function accepts two list of str and calculates Jaccard Similarity\n",
    "\n",
    "    :param source: List of str\n",
    "    :param target: List of str\n",
    "    :return : A similarity score between 0 to 1\n",
    "    \"\"\"\n",
    "    # find intersection between the set of tokens (1 or 2 lines)\n",
    "    intersection = set(source) & set(target)\n",
    "\n",
    "    # find union between the set of tokens (1 or 2 lines)\n",
    "    union = set(source) | set(target)\n",
    "\n",
    "    # divide the magnitude of intersection by the magnitude of union (1 line)\n",
    "    return len(intersection) / len(union) if union else 1.0\n"
   ]
  },
  {
   "cell_type": "code",
   "execution_count": 12,
   "metadata": {
    "id": "hFO2MKwHdIp6",
    "tags": []
   },
   "outputs": [
    {
     "name": "stdout",
     "output_type": "stream",
     "text": [
      "Test Passed!\n"
     ]
    }
   ],
   "source": [
    "#@title Execute this to find if your changes work. (Do not edit code.)\n",
    "# Test the function. DO NOT CHANGE CODE BELOW\n",
    "try:\n",
    "    assert jaccard_similarity(preprocess_text_jaccard(\"This is a passage about oil\"), preprocess_text_jaccard(\"This is another passage about oil\"))>0.9\n",
    "    assert jaccard_similarity(preprocess_text_jaccard(\"these are\"), preprocess_text_jaccard(\"completely different\"))==0\n",
    "    assert jaccard_similarity(preprocess_text_jaccard(\"petrol prices are high\"), preprocess_text_jaccard(\"petrol prices are very low\"))==0.5\n",
    "    print(\"Test Passed!\")\n",
    "except AssertionError as e:\n",
    "    print(\"Test Failed\")\n",
    "    raise"
   ]
  },
  {
   "cell_type": "markdown",
   "metadata": {
    "id": "6prYnZW4FsEv"
   },
   "source": [
    "### 3.1.3 Applying Jaccard Similarity to the corpus\n",
    "\n",
    "**Run this code to define function for finding the most similar document using Jaccard coefficient.**"
   ]
  },
  {
   "cell_type": "code",
   "execution_count": 13,
   "metadata": {
    "id": "hVAf2caIDxi7",
    "tags": []
   },
   "outputs": [],
   "source": [
    "#@title Run this cell to apply Jaccard Similarity for finding the most similar document. (Do not edit code.)\n",
    "def find_most_similar_document_jaccard(test_data_point: List[str]) -> int:\n",
    "    \"\"\"\n",
    "    This functions finds the most similar document to the test_data_point\n",
    "    using the Jaccard distance metric\n",
    "\n",
    "    :param test_data_point: List[str] as the first document\n",
    "    :return: index of the most similar document\n",
    "    \"\"\"\n",
    "    # find the most similar document for each given document.\n",
    "    train[\"similarity_score\"] = train[\"text_processed\"].apply(\n",
    "            lambda x: jaccard_similarity(x, test_data_point))\n",
    "    return train[\"similarity_score\"].idxmax()"
   ]
  },
  {
   "cell_type": "markdown",
   "metadata": {
    "id": "b3GQHKL_WqSc"
   },
   "source": [
    "We test the Jaccard Similarity function on one of the documents from the test set to obtain the most similar document. **Change the document number in the first line of code below to test for other documents.**"
   ]
  },
  {
   "cell_type": "code",
   "execution_count": 14,
   "metadata": {
    "id": "WVNbkgVxdxCF",
    "tags": []
   },
   "outputs": [
    {
     "name": "stdout",
     "output_type": "stream",
     "text": [
      "Test Document \n",
      "Techs extend Nikkei #39;s rally Technology shares edged up in Asia on Tuesday, as crude oil prices hovered near \\$44 a barrel and the dollar languished ahead of key US economic data.\n",
      "\n",
      "Most Similar Document \n",
      "US election reprieve for oil NEW YORK: Oil dropped below \\$50 a barrel last night to the lowest price in more than a month, extending a \\$6 slide from recent peaks as the US presidential election got underway.\n"
     ]
    }
   ],
   "source": [
    "#@title Run this cell and feel free to play with this cell to obtain better insights. (Do not edit code.)\n",
    "document1 = test.iloc[2]  # <-- Edit Here to experiment with different documents\n",
    "print(f\"Test Document \\n{document1.text}\\n\")\n",
    "most_similar = find_most_similar_document_jaccard(document1[\"text_processed\"])\n",
    "print(f\"Most Similar Document \\n{train.iloc[most_similar].text}\")"
   ]
  },
  {
   "cell_type": "markdown",
   "metadata": {
    "id": "RRWOBAX8d8t7"
   },
   "source": [
    "### 3.1.4 Jaccard Evaluation\n",
    "\n",
    "One way to evaluate the accuracy of similarity models is to determine whether the category of the most similar document matches that of the source document. If both are labeled with the same category, the two documents are considered to be \"similar\".\n",
    "\n",
    "Let's return to our news categorization example:\n",
    "0. World\n",
    "1. Sports\n",
    "2. Business\n",
    "3. Sci/Tech\n",
    "\n",
    "A *confusion matrix* is a table that is used to investigate the performance of a classification algorithm. A confusion matrix visualizes and summarizes the performance of a classification algorithm, that is, it illustrates for each predicted outcome whether the system output is correct. For example, if the system prediction is 0=\"world\" and the correct answer is 1=\"sports\", no points are awarded. If the system output is 0=\"world\" and the correct answer is 0=\"world\", one point is awarded. The confusion matrix records the total number of points awarded for each <predicted category, actual category> combination.  A good read is **Section 4.7: Evaluation: Precision, Recall and F-measure in Chapter 4 of SLP**.\n",
    "\n",
    "A *heatmap* can be used to visualize the outcome of a classification solution. Each row in the heatmap is a predicted category for a given document and each column is the actual category for that document. This form of visualization allows one to decide which categories are best characterized by the classification algorithm. Our heatmap below employs darker colors for higher values and lighter colors for lower values. Note that the number of **false negatives** for a given category X is the sum of the values in row X (excluding the value in column X) and the number of **false positives** for a given category X is the sum of the values in column X (excluding the value in row X).\n",
    "\n",
    "**Execute the following code to evaluate the model using confusion matrix.**"
   ]
  },
  {
   "cell_type": "code",
   "execution_count": 15,
   "metadata": {
    "id": "qXvXujuqd8Pn",
    "tags": []
   },
   "outputs": [
    {
     "name": "stdout",
     "output_type": "stream",
     "text": [
      "   precision    recall    fscore\n",
      "0   0.647059  0.578947  0.611111\n",
      "1   0.541667  0.619048  0.577778\n",
      "2   0.681818  0.714286  0.697674\n",
      "3   0.384615  0.333333  0.357143\n"
     ]
    },
    {
     "data": {
      "image/png": "[encoded data removed]",
      "text/plain": [
       "<Figure size 640x480 with 2 Axes>"
      ]
     },
     "metadata": {},
     "output_type": "display_data"
    }
   ],
   "source": [
    "#@title Run this code to evaluate the model. (Do not edit code.)\n",
    "from sklearn.metrics import confusion_matrix\n",
    "from sklearn.metrics import precision_recall_fscore_support\n",
    "import seaborn as sns\n",
    "import matplotlib.pyplot as plt\n",
    "\n",
    "category_found = train[\"category\"].iloc[test[\"text_processed\"].apply(lambda x: find_most_similar_document_jaccard(x))]\n",
    "category_found = category_found.reset_index()\n",
    "test[\"category_found\"] = category_found[\"category\"]\n",
    "\n",
    "precision, recall, fscore, support = precision_recall_fscore_support(test[\"category\"], test[\"category_found\"])\n",
    "print(pd.DataFrame({'precision': precision, 'recall': recall, 'fscore': fscore}))\n",
    "\n",
    "cf_matrix = confusion_matrix(test[\"category\"], test[\"category_found\"])\n",
    "ax = plt.axes()\n",
    "sns.heatmap(cf_matrix, annot=True, xticklabels=['World', 'Sports', 'Business', 'Sci/Tech'], yticklabels=['World', 'Sports', 'Business', 'Sci/Tech'],cmap='Blues', ax=ax)\n",
    "ax.set_title('Heatmap for Jaccards Similarity Results')\n",
    "ax.set_xlabel('Predicted category')\n",
    "ax.set_ylabel('Actual category')\n",
    "plt.show()"
   ]
  },
  {
   "cell_type": "markdown",
   "metadata": {
    "id": "B04Whg_meSDJ"
   },
   "source": [
    "## 3.2 Cosine Distance\n",
    "> The completion of this section prepares you to answer question 3, 4, 5 and 6 on **Project 2 Quiz questions**.\n",
    "\n",
    "We saw earlier that Jaccard Similarity is token based. What if text documents are represented in the form of a vector? The use of vectors enables the application of cosine similarity for testing document similarity.\n",
    "\n",
    "Cosine similarity is a measure of similarity between two sequences of numbers. The sequences are viewed as vectors in an inner product space, and the cosine similarity is defined as the cosine of the angle between them, that is, the dot product of the vectors divided by the product of their lengths. It follows that the cosine similarity does not depend on the magnitudes of the vectors, but only on their angle.\n",
    "\n",
    "We will now experiment with word vectorization techniques.\n",
    "\n",
    "### 3.2.0. Word Vectors\n",
    "\n",
    "Word embeddings (also called word vectors) represent each word numerically in such a way that the vector corresponds to how that word is used or what it means. Vector encodings are learned by considering the context in which the words appear. Words that appear in similar contexts will have similar vectors. For example, vectors for \"leopard\", \"lion\", and \"tiger\" will be close together, while they'll be far away from \"planet\" and \"castle\".\n",
    "\n",
    "Word vectors (Word2vec) can be used as features for machine learning models. Word vectors will typically improve the performance of models above bag of words encoding. A good read on Word2vec is **Chapter 6: Vector Semantics and Embeddings, Section 6.2: Vector semantics in SLP**.\n",
    "\n",
    "For this we will import a pretrained word vectorizer and look up the vector representation of the words from it. An average vector representation of a document is calculated by a mean of word vectors.\n",
    "\n",
    "A = Average vector representation of document1  \n",
    "B = Average vector representation of document2  \n",
    "\n",
    "Cosine Distance = $1- \\frac{A.B}{\\mid A\\mid \\mid B\\mid}$"
   ]
  },
  {
   "cell_type": "markdown",
   "metadata": {
    "id": "VpwA7bsWeWO8"
   },
   "source": [
    "### 3.2.1 Preprocessing for Cosine Similarity\n",
    "\n",
    "**Execute the following code to preprocess the documents for cosine similarity.**"
   ]
  },
  {
   "cell_type": "code",
   "execution_count": 16,
   "metadata": {
    "id": "rzCP8OAweZEi",
    "tags": []
   },
   "outputs": [
    {
     "name": "stdout",
     "output_type": "stream",
     "text": [
      "Vector representation of 'These are a series of demos, to show how& to use spacy **for** preprocessing tasks!'\n",
      "[-1.11328833e-01  3.08731701e-02  5.78928292e-02 -1.65646657e-01\n",
      " -1.35833323e-01  1.28715992e-01  6.23495020e-02  1.60000026e-02\n",
      "  2.00325176e-01  7.59545028e-01 -2.11349949e-02 -6.81196824e-02\n",
      "  1.17201664e-01 -3.96177061e-02  1.88526288e-01  2.39183195e-03\n",
      " -8.31449870e-03  1.20000994e+00 -1.72251478e-01 -1.71945319e-01\n",
      "  1.64071336e-01  1.69242039e-01 -1.91699918e-02 -1.21369004e-01\n",
      " -4.09208350e-02  1.46051005e-01  2.44636849e-01 -9.36516747e-02\n",
      "  3.10925007e-01 -1.82086661e-01 -6.29323199e-02 -2.18644813e-01\n",
      " -5.87606691e-02  2.36440059e-02  3.83170173e-02  5.28789945e-02\n",
      "  3.88275050e-02  8.57414827e-02 -6.42451867e-02 -1.43913388e-01\n",
      " -7.24050170e-03 -1.35173416e-02 -3.71959992e-02  1.91351652e-01\n",
      " -1.52058944e-01  1.28988340e-01  1.46064982e-01  1.06598832e-01\n",
      " -1.88751176e-01  9.82541591e-03  5.11311702e-02 -8.94863382e-02\n",
      "  1.59317017e-01  2.05456853e-01 -4.91209984e-01  4.12738360e-02\n",
      "  2.93776661e-01 -6.12624995e-02  7.98199996e-02 -2.89234966e-02\n",
      " -1.04924165e-01  9.03721154e-02  2.98990924e-02  6.89521655e-02\n",
      "  3.41613322e-01  2.62152310e-02 -2.79500615e-04  2.07289994e-01\n",
      "  1.34518340e-01 -3.78723331e-02  1.20801024e-01  4.14144956e-02\n",
      "  1.41228288e-02 -1.62250340e-01  1.51534155e-01 -2.33728170e-01\n",
      "  7.39768371e-02 -1.37800679e-01  8.60413834e-02  3.43204975e-01\n",
      "  5.08986712e-02 -1.37059331e-01 -1.35073170e-01 -1.50657669e-01\n",
      " -2.51526628e-02  1.86275005e-01 -3.77041459e-01 -4.07069921e-02\n",
      "  2.30951667e-01 -8.01916718e-02  1.10360831e-01  1.15754999e-01\n",
      "  5.84771670e-02  2.04744995e-01  4.09513302e-02 -1.54509753e-01\n",
      "  2.62460023e-01  2.73863345e-01 -4.32183407e-02 -1.28310025e-02\n",
      "  8.09688270e-02 -1.27789497e-01 -9.80109945e-02 -1.02612339e-01\n",
      "  1.71695516e-01 -1.31702995e+00  2.57132500e-01  1.69733003e-01\n",
      "  2.87209332e-01  4.94188368e-02  6.12290017e-02 -1.64575502e-01\n",
      "  1.40371665e-01  2.50849929e-02 -6.48131743e-02  6.91244975e-02\n",
      "  2.59205084e-02  4.39025015e-01 -1.79444984e-01  1.70842841e-01\n",
      "  2.76533347e-02 -2.61556655e-01 -7.91581646e-02  1.36969566e-01\n",
      "  5.75173348e-02  2.16981664e-01  1.53859183e-01  1.26223326e-01\n",
      "  2.16286168e-01 -6.89376667e-02  1.94855854e-01  9.47449580e-02\n",
      "  1.47542015e-01 -2.74806768e-02 -9.68271717e-02  1.24008156e-01\n",
      "  1.90464333e-01 -4.00416628e-02  4.59476680e-01  9.90394950e-02\n",
      " -7.82626688e-01 -2.75774986e-01  3.68451774e-02 -3.30260336e-01\n",
      "  6.20401837e-02 -1.58465177e-01  2.01700069e-02 -2.61839509e-01\n",
      " -4.67418395e-02 -2.31080174e-01  1.77427828e-01  3.74264978e-02\n",
      " -1.03967838e-01  1.39857754e-01 -1.48627833e-01 -1.13998674e-01\n",
      " -1.02588832e-01  4.57500033e-02  1.03020169e-01 -1.21890008e-02\n",
      " -1.17724337e-01 -2.78936680e-02 -8.77335072e-02 -2.42950007e-01\n",
      " -1.64701998e-01 -2.49628007e-01 -1.16213769e-01 -1.45612657e-01\n",
      " -9.82099771e-03 -8.31868276e-02 -4.04471681e-02  2.56402016e-01\n",
      "  6.88632503e-02 -5.41663207e-02 -1.65111497e-01  2.49443296e-02\n",
      " -1.33520827e-01 -3.05751879e-02  7.91246668e-02  6.71199942e-03\n",
      "  1.88556179e-01 -7.02418312e-02  3.49916629e-02  2.72899866e-03\n",
      "  3.63223314e-01 -3.22925150e-02 -3.95506620e-02 -2.18511652e-02\n",
      " -2.26065174e-01 -1.14006668e-01 -4.62660044e-02  1.25174329e-01\n",
      " -5.20933652e-03 -1.28550082e-03 -5.68950176e-03  1.80148169e-01\n",
      "  6.70045018e-02 -2.58371830e-02 -1.51047155e-01  2.85854995e-01\n",
      " -1.19768836e-01 -2.78761178e-01  2.77300507e-01 -8.52665007e-02\n",
      " -3.58549915e-02 -1.34722173e-01 -1.46219179e-01  4.52775024e-02\n",
      "  1.24066323e-01 -5.37766628e-02  3.62579972e-02 -4.08980288e-02\n",
      "  2.17161458e-02 -4.44339991e-01 -4.08195287e-01  1.47601351e-01\n",
      "  1.13593824e-01  2.60126535e-02 -2.01186657e-01  2.02903330e-01\n",
      "  3.18327665e-01  1.92066833e-01 -1.48589998e-01  1.70937657e-01\n",
      " -2.70833280e-02  2.19026670e-01  5.24369963e-02 -1.16117336e-01\n",
      "  2.99033355e-02  1.97715834e-01 -4.15128358e-02 -1.25650153e-01\n",
      "  9.79559943e-02  7.57121528e-03 -9.41648800e-03 -2.65873373e-02\n",
      " -9.53919888e-02  1.20441496e-01 -2.17379019e-01 -6.65699840e-02\n",
      "  1.44310325e-01  5.22740036e-02 -1.01275019e-01  2.25501675e-02\n",
      " -1.25426665e-01 -1.61082998e-01  4.98716682e-02 -2.15328097e-01\n",
      "  5.01394905e-02  1.15048341e-01  1.73236668e-01 -1.29065022e-01\n",
      " -4.66916943e-03  6.71541616e-02  1.03978336e-01 -3.28511685e-01\n",
      "  1.18563831e-01 -3.26006353e-04  5.32610081e-02 -8.50296691e-02\n",
      "  1.23374321e-01  2.92350841e-03 -9.95410010e-02 -1.53631672e-01\n",
      " -1.69386659e-02 -8.96851718e-02  7.61194760e-03 -1.17429988e-02\n",
      "  9.04100001e-01  1.78803012e-01 -2.90683340e-02 -1.35505155e-01\n",
      " -8.72937441e-02 -4.23423380e-01 -8.36731959e-03 -1.07383169e-01\n",
      "  1.53423324e-02  3.73003595e-02  5.11789955e-02  5.99325001e-02\n",
      "  2.92689472e-01  1.07876681e-01  2.62548834e-01 -1.60436511e-01\n",
      "  1.55067995e-01 -2.38966659e-01  2.03489009e-02 -1.45548329e-01\n",
      " -7.15383291e-02 -3.35227162e-01 -2.13760495e-01 -6.28568307e-02\n",
      "  3.47625799e-02  3.77526194e-01  1.18189484e-01 -2.90851176e-01\n",
      "  2.14038312e-01  1.47116631e-02 -2.70124953e-02 -6.95166662e-02]\n"
     ]
    }
   ],
   "source": [
    "#@title Run this cell to preprocess data for Cosine Similarity. (Do not edit code.)\n",
    "import numpy as np\n",
    "import en_core_web_md\n",
    "\n",
    "def preprocess_cosine_similarity(text: str) -> np.array:\n",
    "    tokens = tokenize(text)\n",
    "    tokens = remove_punctuation(tokens)\n",
    "    tokens = remove_stop_words(tokens)\n",
    "    vector = np.mean([word.vector for word in tokens], axis=0)\n",
    "    return vector\n",
    "\n",
    "print(f\"Vector representation of '{sample_text}'\")\n",
    "print(preprocess_cosine_similarity(sample_text))"
   ]
  },
  {
   "cell_type": "markdown",
   "metadata": {
    "id": "KXG3QWtYepkc"
   },
   "source": [
    "### 3.2.2 Applying Cosine Similarity to the corpus\n",
    "\n"
   ]
  },
  {
   "cell_type": "markdown",
   "metadata": {
    "id": "Lqbj5xK8ejXC"
   },
   "source": [
    "Apply preprocess_cosine_similarity on the corpus"
   ]
  },
  {
   "cell_type": "code",
   "execution_count": 17,
   "metadata": {
    "id": "cFZxdTF6ekXZ",
    "tags": []
   },
   "outputs": [],
   "source": [
    "train[\"text_processed\"] = train[\"text\"].apply(preprocess_cosine_similarity)\n",
    "test[\"text_processed\"] = test[\"text\"].apply(preprocess_cosine_similarity)"
   ]
  },
  {
   "cell_type": "markdown",
   "metadata": {
    "id": "sx23a4e4sC7y"
   },
   "source": [
    "#### 3.2.2.1 Programming Question #2 (2 points)\n",
    "\n",
    "**Complete the function below to calculate cosine similarity between two vectors.**\n",
    "\n",
    "<mark>After you have completed the function and executed the tests, make sure to transfer your answer to the .py file provided along with this Notebook.</mark>\n"
   ]
  },
  {
   "cell_type": "code",
   "execution_count": 18,
   "metadata": {
    "id": "9Fr93xNuezHa",
    "tags": []
   },
   "outputs": [],
   "source": [
    "#@title Edit and run this cell to calculate cosine similarity between two vectors.\n",
    "from scipy.spatial.distance import cosine\n",
    "def cosine_similarity(vector_1: np.array, vector_2: np.array) -> float:\n",
    "    \"\"\"\n",
    "    :param vector_1: vector of the first document\n",
    "    :param vector_2: vector of the second document\n",
    "    :return: cosine similarity between the two documents\n",
    "    \"\"\"\n",
    "    # calculate the cosine distance between two vectors (1-2 lines)\n",
    "    if np.all(vector_1 == 0) or np.all(vector_2 == 0):\n",
    "        return 0.0\n",
    "    \n",
    "    cosine_distance = cosine(vector_1, vector_2)\n",
    "\n",
    "    # return 1 - cosine_distance to indicate similarity (1-2 lines)\n",
    "    return 1 - cosine_distance\n"
   ]
  },
  {
   "cell_type": "code",
   "execution_count": 19,
   "metadata": {
    "id": "y5u9Az_We1Xk",
    "tags": []
   },
   "outputs": [
    {
     "name": "stdout",
     "output_type": "stream",
     "text": [
      "Test Passed!\n"
     ]
    }
   ],
   "source": [
    "#@title Execute this to find if your changes work. (Do not edit code.)\n",
    "# testing the cosine similarity function\n",
    "# Test the function. DO NOT CHANGE CODE BELOW\n",
    "try:\n",
    "    # test1 - both zeroes\n",
    "    assert cosine_similarity(np.zeros(5), np.zeros(5))==0\n",
    "\n",
    "    # test2 - one zero\n",
    "    assert cosine_similarity(np.zeros(5), np.ones(5))==0\n",
    "\n",
    "    # test3 - both non-zero\n",
    "    assert cosine_similarity(np.array([2,3,4]), np.array([2,3,4]))==1.0\n",
    "    print(\"Test Passed!\")\n",
    "except AssertionError as e:\n",
    "    print(\"Test Failed\")\n",
    "    raise"
   ]
  },
  {
   "cell_type": "markdown",
   "metadata": {
    "id": "IYKSvJQye5-I"
   },
   "source": [
    "#### 3.2.2.2 Programming Question #3 (2 points)\n",
    "\n",
    "**Complete the function below (Hint: refer to the implementation used in jaccard similarity)**\n",
    "\n",
    "<mark>After you have completed the function and executed the tests, make sure to transfer your answer to the .py file provided along with this Notebook.</mark>"
   ]
  },
  {
   "cell_type": "code",
   "execution_count": 20,
   "metadata": {
    "id": "RGgHGQM5e8XB",
    "tags": []
   },
   "outputs": [],
   "source": [
    "#@title Edit and run this cell to apply cosine similarity for finding the most similar document..\n",
    "def find_most_similar_document_cosine(test_data_point: np.array) -> int:\n",
    "    \"\"\"\n",
    "    This function finds the most similar document to the test_data_point\n",
    "    using the cosine distance metric\n",
    "\n",
    "    :param test_data_point: vector representation of the first document\n",
    "    :return: index of the most similar document\n",
    "\n",
    "    Problem Description:\n",
    "    Refer to the implementation above for Jaccard Similarity and change the\n",
    "    distance function (it's a very small change in the code)\n",
    "    \"\"\"\n",
    "\n",
    "    # find the most similar document for each given document.\n",
    "    # Hint: Refer to the Jaccard similarity code above, replacing Jaccard similarity with cosine similarity. (2-3 lines of code)\n",
    "    train[\"similarity_score\"] = train[\"text_processed\"].apply(\n",
    "            lambda x: cosine_similarity(x, test_data_point))\n",
    "    return train[\"similarity_score\"].idxmax()\n"
   ]
  },
  {
   "cell_type": "code",
   "execution_count": 21,
   "metadata": {
    "id": "CCgXuJLze-KX",
    "tags": []
   },
   "outputs": [
    {
     "name": "stdout",
     "output_type": "stream",
     "text": [
      "Test Document \n",
      "Techs extend Nikkei #39;s rally Technology shares edged up in Asia on Tuesday, as crude oil prices hovered near \\$44 a barrel and the dollar languished ahead of key US economic data.\n",
      "\n",
      "Most Similar Document \n",
      "Nikkei Up 1.5 Pct, Year-End Rally Eyed  TOKYO (Reuters) - Tokyo stocks posted strong rises by  Friday afternoon as hopes for a seasonal year-end rally and the  imminent inclusion of oil and gas developer INPEX Corp. into  the TOPIX index, spurred buying in a wide range of stocks.\n"
     ]
    }
   ],
   "source": [
    "#@title Run this cell and feel free to play with this cell to obtain better insights. (Do not edit code.)\n",
    "document1 = test.iloc[2]\n",
    "print(f\"Test Document \\n{document1.text}\\n\")\n",
    "most_similar = find_most_similar_document_cosine(document1[\"text_processed\"])\n",
    "print(f\"Most Similar Document \\n{train.iloc[most_similar].text}\")"
   ]
  },
  {
   "cell_type": "markdown",
   "metadata": {
    "id": "hObxVLXwfD_r"
   },
   "source": [
    "### 3.2.3 Cosine Distance Evaluation\n",
    "\n",
    "\n",
    "**Execute the following code to evaluate the model.**"
   ]
  },
  {
   "cell_type": "code",
   "execution_count": 22,
   "metadata": {
    "id": "HgeglfWefG9x",
    "tags": []
   },
   "outputs": [
    {
     "name": "stdout",
     "output_type": "stream",
     "text": [
      "   precision    recall    fscore\n",
      "0   0.761905  0.842105  0.800000\n",
      "1   0.904762  0.904762  0.904762\n",
      "2   0.739130  0.809524  0.772727\n",
      "3   0.818182  0.600000  0.692308\n"
     ]
    },
    {
     "data": {
      "image/png": "[encoded data removed]",
      "text/plain": [
       "<Figure size 640x480 with 2 Axes>"
      ]
     },
     "metadata": {},
     "output_type": "display_data"
    }
   ],
   "source": [
    "#@title Run this cell to evaluate the model. (Do not edit code.)\n",
    "category_found = train[\"category\"].iloc[test[\"text_processed\"].apply(lambda x: find_most_similar_document_cosine(x))]\n",
    "category_found = category_found.reset_index()\n",
    "test[\"category_found\"] = category_found[\"category\"]\n",
    "\n",
    "cf_matrix = confusion_matrix(test[\"category\"], test[\"category_found\"])\n",
    "\n",
    "precision, recall, fscore, support = precision_recall_fscore_support(test[\"category\"], test[\"category_found\"])\n",
    "print(pd.DataFrame({'precision': precision, 'recall': recall, 'fscore': fscore}))\n",
    "ax = plt.axes()\n",
    "sns.heatmap(cf_matrix, annot=True, xticklabels=['World', 'Sports', 'Business', 'Sci/Tech'], yticklabels=['World', 'Sports', 'Business', 'Sci/Tech'],cmap='Blues', ax=ax)\n",
    "ax.set_title('Heatmap for Word2vec - Cosine Similarity Results')\n",
    "ax.set_xlabel('Predicted category')\n",
    "ax.set_ylabel('Actual category')\n",
    "plt.show()"
   ]
  },
  {
   "cell_type": "markdown",
   "metadata": {
    "id": "r5FuYbCCfSWy"
   },
   "source": [
    "# Part 4 - Vectorization techniques\n",
    "> The completion of this section prepares you to answer to the questions from question 7 onwards on **Project 2 Quiz questions**.\n",
    "\n",
    "We just saw that we can use Average vector to vectorize text and then use cosine similarity to measure the similarity between two documents.\n",
    "\n",
    "We will further explore other methods to perform text vectorization. It is important to note that all vector base similarity metrics (including cosine distance) will work irrespective of the vectorization technique that has been used to perform text vectorization.\n",
    "\n"
   ]
  },
  {
   "cell_type": "markdown",
   "metadata": {
    "id": "JPdSkShZh-2t"
   },
   "source": [
    "## 4.1 TF-IDF\n",
    "\n",
    "TF-IDF is a very important technique, widely used in practice for its simplicity, performance and accuracy. It is the same algorithm used by many search engines to index and search text documents, e.g., [Solr](https://solr.apache.org/guide/8_0/term-vectors.html) and ElasticSearch [ElasticSearch](https://www.elastic.co/guide/en/elasticsearch/reference/5.6/similarity.html).\n",
    "\n",
    "TF-IDF weight indicates the importance of a word in a given document by detecting whether a word is discriminative of a particular document or not. In this section, TF-IDF weights are used to convert sentences into vector representations. Calculation of TF-IDF weight for a word `t` in document `d` is as follows:\n",
    "\n",
    "\\begin{align}\n",
    "    \\mathrm{TF-IDF} &= \\mathrm{tf_{t,d}}* \\mathrm{idf_t} \\text{ where, }\\\\\n",
    "    \\mathrm{tf_{t,d}} \\text{(term frequency)} &= log_{10}(count(t,d) + 1) \\\\\n",
    "    \\mathrm{idf_t} \\text{(inverse document frequency)} &= log_{10}\\frac{N}{\\mathrm{df_{t}}}\n",
    "\\end{align}\n",
    "\n",
    "$\\mathrm{N}$  = Total number of documents, $\\mathrm{df_{t}}$ = Number of documents in which word `t` occurs\n",
    "\n",
    "\n",
    "\n",
    "A good read for TF-IDF is **Chapter 6: Vector Semantics and Embeddings, Section 6.5 of SLP**."
   ]
  },
  {
   "cell_type": "markdown",
   "metadata": {
    "id": "9r__zuptfbDa"
   },
   "source": [
    "#### 4.1.1 Programming Question #4 (2 points)\n",
    "\n",
    "**Complete the function below (Hint: refer to the implementations above)**\n",
    "\n",
    "<mark>After you have completed the function and executed the tests, make sure to transfer your answer to the .py file provided along with this Notebook.</mark>"
   ]
  },
  {
   "cell_type": "code",
   "execution_count": 23,
   "metadata": {
    "id": "mZjz9yYOfdgi",
    "tags": []
   },
   "outputs": [],
   "source": [
    "#@title Edit the code to preprocess the text for TF-IDF\n",
    "def preprocess_text_tfidf(text: str) -> str:\n",
    "    \"\"\"\n",
    "    This functions accepts a str as input and performs processing for TF-IDF\n",
    "\n",
    "    :param text: string text\n",
    "    :return: text after the processing is done\n",
    "\n",
    "    Problem Description:\n",
    "    What series of preprocessing steps would be useful for TF-IDF\n",
    "    Use the functions we are already defined and apply them here to obtain the\n",
    "    preprocessing results\n",
    "\n",
    "    Note that we join the tokens back into a string as this is a requirement\n",
    "    for the TF-IDF implementation of sklearn\n",
    "\n",
    "    Refer to the implementations above\n",
    "    \"\"\"\n",
    "\n",
    "    # Add atleast 3 pre-processing functions here ( 3 - 4 lines of code)\n",
    "    \n",
    "    tokens = tokenize(text)\n",
    "    tokens = remove_punctuation(tokens)\n",
    "    tokens = lemmatize(tokens)\n",
    "    \n",
    "    # Join tokens back into a string for sklearn's TF-IDF\n",
    "    return ' '.join(tokens)"
   ]
  },
  {
   "cell_type": "code",
   "execution_count": 24,
   "metadata": {
    "id": "FXuXmN9kfeQj",
    "tags": []
   },
   "outputs": [
    {
     "name": "stdout",
     "output_type": "stream",
     "text": [
      "Test Passed!\n"
     ]
    }
   ],
   "source": [
    "#@title Execute this to find if your changes work. (Do not edit code.)\n",
    "# testing the preprocessing for tf-idf\n",
    "# Test the function. DO NOT CHANGE CODE BELOW\n",
    "try:\n",
    "    # test - regular input\n",
    "    assert preprocess_text_tfidf(\"testing out the functionality of the tf-idf method, lets see how well it performs\")=='test out the functionality of the tf idf method let see how well it perform'\n",
    "\n",
    "    print(\"Test Passed!\")\n",
    "except AssertionError as e:\n",
    "    print(\"Test Failed\")\n",
    "    raise"
   ]
  },
  {
   "cell_type": "code",
   "execution_count": 25,
   "metadata": {
    "id": "N7d9zLlbfi3y",
    "tags": []
   },
   "outputs": [],
   "source": [
    "#@title Run this cell to import and get TF-IDF vectorizer. (Do not edit code.)\n",
    "from sklearn.feature_extraction.text import TfidfVectorizer\n",
    "\n",
    "def get_tfidf_vectorizer(train_sample: pd.DataFrame, test_sample: pd.DataFrame):\n",
    "    vect = TfidfVectorizer(ngram_range=(1, 2))\n",
    "    # cast to list because the output is a space vector\n",
    "    train_sample[\"text_processed\"] = list(vect.fit_transform(train_sample[\"text\"].apply(preprocess_text_tfidf)).toarray())\n",
    "    test_sample[\"text_processed\"] = list(vect.transform(test_sample[\"text\"].apply(preprocess_text_tfidf)).toarray())\n",
    "    return train_sample, test_sample"
   ]
  },
  {
   "cell_type": "code",
   "execution_count": 26,
   "metadata": {
    "id": "oTIAmAxbflJb",
    "tags": []
   },
   "outputs": [
    {
     "name": "stdout",
     "output_type": "stream",
     "text": [
      "Test Document \n",
      "Techs extend Nikkei #39;s rally Technology shares edged up in Asia on Tuesday, as crude oil prices hovered near \\$44 a barrel and the dollar languished ahead of key US economic data.\n",
      "\n",
      "Most Similar Document \n",
      "Saudi Violence Pushes Oil Prices Higher Oil prices were forced higher today by an outbreak of violence in Saudi Arabia and concerns that Opec may cut output. The cost of a barrel of light, sweet crude oil climbed \n"
     ]
    }
   ],
   "source": [
    "#@title Run this cell to find the most similar documents. (Do not edit code.)\n",
    "train, test = get_tfidf_vectorizer(train, test)\n",
    "document1 = test.iloc[2]\n",
    "print(f\"Test Document \\n{document1.text}\\n\")\n",
    "most_similar = find_most_similar_document_cosine(document1[\"text_processed\"])\n",
    "print(f\"Most Similar Document \\n{train.iloc[most_similar].text}\")"
   ]
  },
  {
   "cell_type": "markdown",
   "metadata": {
    "id": "UG8oGkStfoLY"
   },
   "source": [
    "### 4.1.3 - TF-IDF with cosine distance Evaluation\n",
    "\n",
    "**Execute the following cell to evaluate the model.**"
   ]
  },
  {
   "cell_type": "code",
   "execution_count": 27,
   "metadata": {
    "id": "yTL4u0eXfqlZ",
    "tags": []
   },
   "outputs": [
    {
     "name": "stdout",
     "output_type": "stream",
     "text": [
      "   precision    recall    fscore\n",
      "0   0.619048  0.684211  0.650000\n",
      "1   0.700000  0.666667  0.682927\n",
      "2   0.666667  0.761905  0.711111\n",
      "3   0.727273  0.533333  0.615385\n"
     ]
    },
    {
     "data": {
      "image/png": "[encoded data removed]",
      "text/plain": [
       "<Figure size 640x480 with 2 Axes>"
      ]
     },
     "metadata": {},
     "output_type": "display_data"
    }
   ],
   "source": [
    "#@title Run this cell to evaluate the TF-IDF model.  (Do not edit code.)\n",
    "category_found = train[\"category\"].iloc[test[\"text_processed\"].apply(lambda x: find_most_similar_document_cosine(x))]\n",
    "category_found = category_found.reset_index()\n",
    "test[\"category_found\"] = category_found[\"category\"]\n",
    "\n",
    "cf_matrix = confusion_matrix(test[\"category\"], test[\"category_found\"])\n",
    "\n",
    "precision, recall, fscore, support = precision_recall_fscore_support(test[\"category\"], test[\"category_found\"])\n",
    "print(pd.DataFrame({'precision': precision, 'recall': recall, 'fscore': fscore}))\n",
    "ax = plt.axes()\n",
    "sns.heatmap(cf_matrix, annot=True, xticklabels=['World', 'Sports', 'Business', 'Sci/Tech'], yticklabels=['World', 'Sports', 'Business', 'Sci/Tech'],cmap='Blues', ax=ax)\n",
    "ax.set_title('Heatmap for TF-IDF - Cosine Similarity Results')\n",
    "ax.set_xlabel('Predicted category')\n",
    "ax.set_ylabel('Actual category')\n",
    "plt.show()"
   ]
  },
  {
   "cell_type": "markdown",
   "metadata": {
    "id": "nieRBBVWmig0"
   },
   "source": [
    "## 4.2 BERT Embeddings"
   ]
  },
  {
   "cell_type": "markdown",
   "metadata": {
    "id": "aCVwCswAmvqe"
   },
   "source": [
    "**B**idirectional **E**ncoder **R**epresentations from **T**ransformers (BERT) is a deep learning model developed by Google in 2018 (https://ai.googleblog.com/2018/11/open-sourcing-bert-state-of-art-pre.html) using the Transformer architecture. BERT paved the way for numerous other wiell-known Large Language Models (LLMs) that followed suit, employing the same Transformer architecture, including examples like ChatGPT.\n",
    "\n",
    "- A good read to understand Transformer architecture would be **Chapter 9.1 and 10.1 - Transformers and Large Language Models of SLP**\n",
    "\n",
    "As suggested by its name, BERT is a bi-directional encoder that considers both right and left context during training. The model is trained on a large amount of text data to generate contextual word embeddings depending on the context a particular word appears. BERT is pre-trained on two unsupervised learning objectives.\n",
    "\n",
    "1. Masked Language Modeling (MLM) - Some words in the input sentences are randomly masked so that the model is tasked to predict the masked words based on the context observed.\n",
    "2. Next Sentence Prediction (NSP) - Here, BERT is trained to predict whether two given sentences are contiguous in the original text.\n",
    "\n",
    "A deep dive into the inner mechanisms of BERT would be provided in Project 3. While it is possible to use pre-trained BERT model as is to retrieve word representations, it is also possible to fine-tune the model to downstream tasks e.g., sentiment analysis, named entity recognition for improved performance.\n",
    "\n",
    "- A good read to understand BERT's training objectives and fine-tuning BERT for other downstream tasks would be **Chapter 11.1, 11.2 and 11.3 - Masked Language Models of SLP**\n",
    "\n",
    "In this section, BERT word embeddings will be used along with cosine similarity to compare its performance with other word representations discussed in this project.\n"
   ]
  },
  {
   "cell_type": "markdown",
   "metadata": {
    "id": "JVx-m2gMX8ll"
   },
   "source": [
    "### 4.2.1 Tokenization\n",
    "\n",
    "In section 2.1, spacy tokenizer separated a given sentence into words, punctuation marks and special symbols. Therefore, spacy tokenizer can be considered as a word-level tokenizer. But the BERT model utilizes a sub-word tokenizer where a given sentence is separated into smaller sub-word units to handle out-of-vocabulary (OOV) words. Since words can be broken down into more frequently used sub-words, even though the particular word itself is not available in the model vocabulary, there is a high chance for its sub-words to be available, hence making it possible to represent the particular word. An example is shown below.\n",
    "\n",
    "```python\n",
    "from transformers import BertTokenizer\n",
    "\n",
    "tokenizer = BertTokenizer.from_pretrained('bert-base-uncased')\n",
    "\n",
    "example_text = \"I am reading 'The House in the Cerulean Sea'\"\n",
    "# tokenize the example_text using BERT tokenizer\n",
    "bert_input = tokenizer(example_text, padding='max_length', max_length=15, truncation=True, return_tensors='pt')  \n",
    "\n",
    "#  id of each token in the vocabulary\n",
    "print(bert_input['input_ids'])\n",
    "print(bert_input['token_type_ids'])\n",
    "print(bert_input['attention_mask'])\n",
    "\n",
    ">>>tensor([[  101,  1045,  2097,  3422,  2033, 23065,  3892,   102,     0,     0]])\n",
    ">>>tensor([[0, 0, 0, 0, 0, 0, 0, 0, 0, 0]])\n",
    ">>>tensor([[1, 1, 1, 1, 1, 1, 1, 1, 0, 0]])\n",
    "\n",
    "# decoding each token seperately\n",
    "for i in bert_input['input_ids'][0]:\n",
    "  print(tokenizer.decode(i))\n",
    ">>>[ C L S ]\n",
    "i\n",
    "a m\n",
    "r e a d i n g\n",
    "'\n",
    "t h e\n",
    "h o u s e\n",
    "i n\n",
    "t h e\n",
    "c e\n",
    "# # r u\n",
    "# # l e a n\n",
    "s e a\n",
    "'\n",
    "[ S E P ]\n",
    "[ P A D ]\n",
    "[ P A D ]\n",
    "\n",
    "# decoding the tokens all at once\n",
    "print(tokenizer.decode(bert_input['input_ids'][0]))\n",
    ">>>[CLS] i am reading'the house in the cerulean sea'[SEP] [PAD] [PAD]\n",
    "\n",
    "\n",
    "```\n",
    "In the above example the word \"cerulean\" is broken down to three sub-words, \"ce\", \"##ru\" and \"##lean\" during tokenization, but when token ids are decoded as a whole, these three sub-words are connected together to form the initial word \"cerulean\"."
   ]
  },
  {
   "cell_type": "markdown",
   "metadata": {
    "id": "ov1LyJk1ni_Z"
   },
   "source": [
    "#### 4.2.1.1 Programming Question #5 (5 points)\n",
    "\n",
    "**Use the above example and the following documentations to complete the function below.**\n",
    "\n",
    "- BertTokenizer parameter details - (https://huggingface.co/docs/transformers/v4.31.0/en/main_classes/tokenizer#transformers.PreTrainedTokenizer.__call__)\n",
    "- BertModel parameter details and an example of usage - (https://huggingface.co/docs/transformers/model_doc/bert?highlight=berttokenizer#transformers.BertModel.forward.example)\n",
    "- Taking mean of Pytorch tensor - (https://pytorch.org/docs/stable/generated/torch.mean.html)\n",
    "- Converting Pytorch tensor to Numpy array - (https://pytorch.org/tutorials/beginner/former_torchies/tensor_tutorial.html#numpy-bridge)\n",
    "\n",
    "<mark>After you have completed the function and executed the tests, make sure to transfer your answer to the .py file provided along with this Notebook.</mark>"
   ]
  },
  {
   "cell_type": "code",
   "execution_count": 28,
   "metadata": {
    "id": "_rpYBZyDn_oy",
    "tags": []
   },
   "outputs": [
    {
     "name": "stderr",
     "output_type": "stream",
     "text": [
      "/blue/cap4641/share/conda/envs/cap4641/lib/python3.9/site-packages/fairscale/experimental/nn/offload.py:19: FutureWarning: `torch.cuda.amp.custom_fwd(args...)` is deprecated. Please use `torch.amp.custom_fwd(args..., device_type='cuda')` instead.\n",
      "  return torch.cuda.amp.custom_fwd(orig_func)  # type: ignore\n",
      "/blue/cap4641/share/conda/envs/cap4641/lib/python3.9/site-packages/fairscale/experimental/nn/offload.py:30: FutureWarning: `torch.cuda.amp.custom_bwd(args...)` is deprecated. Please use `torch.amp.custom_bwd(args..., device_type='cuda')` instead.\n",
      "  return torch.cuda.amp.custom_bwd(orig_func)  # type: ignore\n"
     ]
    },
    {
     "name": "stdout",
     "output_type": "stream",
     "text": [
      "Vector representation of 'These are a series of demos, to show how& to use spacy **for** preprocessing tasks!'\n"
     ]
    },
    {
     "name": "stderr",
     "output_type": "stream",
     "text": [
      "/blue/cap4641/share/conda/envs/cap4641/lib/python3.9/site-packages/transformers/modeling_utils.py:1035: FutureWarning: You are using `torch.load` with `weights_only=False` (the current default value), which uses the default pickle module implicitly. It is possible to construct malicious pickle data which will execute arbitrary code during unpickling (See https://github.com/pytorch/pytorch/blob/main/SECURITY.md#untrusted-models for more details). In a future release, the default value for `weights_only` will be flipped to `True`. This limits the functions that could be executed during unpickling. Arbitrary objects will no longer be allowed to be loaded via this mode unless they are explicitly allowlisted by the user via `torch.serialization.add_safe_globals`. We recommend you start setting `weights_only=True` for any use case where you don't have full control of the loaded file. Please open an issue on GitHub for any issues related to this experimental feature.\n",
      "  state_dict = torch.load(resolved_archive_file, map_location=\"cpu\")\n"
     ]
    },
    {
     "name": "stdout",
     "output_type": "stream",
     "text": [
      "[[ 2.36578673e-01 -2.99414303e-02  3.87475967e-01  4.33835126e-02\n",
      "   2.30258152e-01 -4.69535351e-01  2.80124962e-01  2.55557954e-01\n",
      "  -1.61208987e-01  2.55948734e-02 -2.96832055e-01 -3.79532963e-01\n",
      "  -2.53488749e-01  1.38585702e-01 -2.27443371e-02  1.44189090e-01\n",
      "  -2.27159664e-01  2.71553606e-01 -1.81620032e-01  2.02438742e-01\n",
      "   5.06973825e-02  1.09669231e-01 -5.73979080e-01 -6.13027886e-02\n",
      "   5.94170690e-01 -8.84441193e-03 -1.53390080e-01 -3.23557794e-01\n",
      "  -9.80630517e-01 -3.33684951e-01  4.90049720e-02  3.66505206e-01\n",
      "   7.67460018e-02 -1.71118647e-01 -1.67958498e-01  1.55071467e-01\n",
      "   8.62090439e-02 -1.08893491e-01  1.50375873e-01  1.43911019e-01\n",
      "  -3.51063788e-01 -5.10345161e-01  6.15703583e-01 -1.48561178e-02\n",
      "  -1.49576589e-01 -2.65938133e-01  1.17001943e-01 -1.53966919e-01\n",
      "   1.84439812e-02 -1.48738310e-01 -8.17967534e-01  6.34730637e-01\n",
      "   1.34124771e-01 -5.30490912e-02  4.03513700e-01  3.42775166e-01\n",
      "   5.29388547e-01 -1.03529656e+00 -1.93039924e-01 -2.14107245e-01\n",
      "   2.91464657e-01  1.24107338e-01  8.05576444e-02 -2.32240334e-01\n",
      "   3.44784409e-01  6.86426535e-02 -8.60329196e-02  4.22177732e-01\n",
      "  -9.47306514e-01 -3.42679322e-02 -5.84850572e-02  1.18879154e-02\n",
      "  -2.93121785e-01 -4.87221442e-02 -2.20447868e-01  3.00914109e-01\n",
      "  -1.05465718e-01  4.27533925e-01  5.65813705e-02 -2.07344443e-01\n",
      "  -7.00342655e-02  6.65399253e-01  1.82234421e-01  3.92882079e-01\n",
      "   5.78987539e-01 -3.24034318e-02 -1.02872983e-01  3.62610668e-01\n",
      "  -4.98040646e-01  3.34536254e-01 -1.95051625e-01 -7.57249668e-02\n",
      "  -1.46449253e-01  1.98519945e-01  6.82030976e-01 -4.13459539e-03\n",
      "  -3.83808345e-01 -1.65944204e-01  6.44586235e-02  2.08336130e-01\n",
      "  -6.47741556e-02 -6.88641131e-01 -1.42024368e-01  1.08482257e-01\n",
      "  -2.31910467e-01 -4.51734439e-02 -8.01385865e-02  3.01467896e-01\n",
      "   2.15136662e-01  6.44481003e-01  8.19727406e-02 -8.51650611e-02\n",
      "  -1.03486143e-01 -2.97986239e-01 -4.17635828e-01  1.77746192e-01\n",
      "  -8.36905241e-02  1.01166725e-01 -1.90872982e-01 -3.71022165e-01\n",
      "   3.14066745e-02  5.23693919e-01  4.28098202e-01  1.04305017e+00\n",
      "   9.02905613e-02  6.23905659e-01 -1.81793496e-01  6.08990371e-01\n",
      "   4.73263949e-01 -3.72054994e-01  1.44980088e-01  4.81987774e-01\n",
      "   6.31876647e-01 -3.62812221e-01 -1.34184465e-01 -1.02719560e-01\n",
      "  -2.55408347e-01 -2.95332253e-01 -4.77865696e-01 -1.05347000e-01\n",
      "   2.11122990e-01  2.93316506e-02  4.84558731e-01  3.67464930e-01\n",
      "   2.08516851e-01  1.85292885e-01 -3.19026560e-01 -2.72766557e-02\n",
      "  -4.19792980e-01  6.94472492e-01 -4.19778414e-02  2.44457141e-01\n",
      "  -4.44041997e-01 -4.14753646e-01 -5.51487923e-01  4.28652495e-01\n",
      "   8.50815922e-02 -7.37262145e-02  5.08183241e-02  1.59582451e-01\n",
      "   6.03121758e-01  4.92712259e-01 -3.92681748e-01  1.77827358e-01\n",
      "   1.61260646e-02 -3.79153311e-01  1.83068275e-01  4.50158119e-01\n",
      "   1.47547588e-01 -9.78130549e-02 -3.74063820e-01 -2.38049015e-01\n",
      "   2.64068365e-01  7.13951234e-03  9.46277231e-02  1.58203498e-01\n",
      "   5.09888530e-01 -3.01813334e-01  4.73578125e-01  1.71567231e-01\n",
      "  -6.38230860e-01  2.47199878e-01  1.55027702e-01 -2.24181920e-01\n",
      "   2.37467289e-01  8.27527866e-02  3.85545671e-01 -6.37775004e-01\n",
      "   2.21823424e-01 -1.59891441e-01 -8.37749183e-01 -2.64671564e-01\n",
      "  -2.76626438e-01 -2.04537705e-01  7.77776897e-01 -4.36521947e-01\n",
      "  -3.92732561e-01 -8.68427306e-02 -7.28117898e-02 -1.06053390e-01\n",
      "   1.00050963e-01  8.57958198e-02  1.21988378e-01 -1.24373332e-01\n",
      "  -2.47868106e-01 -3.64417136e-01 -9.85547230e-02 -3.79098952e-01\n",
      "  -5.58538496e-01 -6.50924891e-02 -5.83499908e-01  6.48284495e-01\n",
      "   2.73024172e-01 -3.11845634e-02  1.54877588e-01  6.42948896e-02\n",
      "   3.87975216e-01 -2.64318496e-01  8.87790918e-02  1.38263449e-01\n",
      "   8.73912349e-02 -2.74029642e-01 -3.29134613e-01  4.07412201e-01\n",
      "  -6.67064667e-01  7.11230338e-01  4.31359231e-01 -6.79228246e-01\n",
      "   7.40929484e-01  2.81677097e-01 -8.64716060e-03 -1.16036817e-01\n",
      "   1.91109762e-01 -8.70627631e-03  1.14583589e-01  5.34976237e-02\n",
      "  -3.82088453e-01 -9.22614411e-02 -8.58701840e-02  1.97530776e-01\n",
      "   9.88854915e-02  3.07615429e-01  5.84649742e-01 -1.75540999e-01\n",
      "   2.85042435e-01 -7.58241042e-02  1.66329294e-01  2.77575403e-01\n",
      "   9.48437676e-02 -3.76457185e-01 -1.67934313e-01 -4.21515733e-01\n",
      "  -3.00164260e-02 -5.46463907e-01 -2.05173105e-01 -2.21689194e-01\n",
      "  -1.57179549e-01 -4.02460545e-01 -3.65917295e-01  6.70607865e-01\n",
      "   2.19769761e-01  4.36178520e-02  4.25706841e-02  1.96643800e-01\n",
      "  -4.74939272e-02 -5.33875108e-01  1.18962407e-01  2.10407630e-01\n",
      "   7.57429779e-01  1.67642042e-01 -2.88106740e-01 -3.02382886e-01\n",
      "   6.87946007e-02  4.76552278e-01  4.14009914e-02 -5.34231842e-01\n",
      "  -6.56513870e-02  2.97376186e-01  1.14332400e-01 -2.58881509e-01\n",
      "  -6.63765743e-02  5.39875090e-01  1.59140840e-01  6.78125918e-02\n",
      "  -1.91702675e-02 -2.55915672e-01  1.13529362e-01 -1.59264579e-01\n",
      "  -5.31866193e-01 -2.81616688e-01 -7.68933669e-02  3.96034643e-02\n",
      "  -5.90255141e-01 -1.18480548e-01  6.06046796e-01  1.68139502e-01\n",
      "   3.02068055e-01  2.75146484e-01  5.51798679e-02 -3.27414513e-01\n",
      "   4.86820517e-03 -3.21198255e-01  1.02331482e-01 -4.50984873e-02\n",
      "  -3.16991717e-01  1.12505332e-01 -2.97845572e-01 -3.20514143e-01\n",
      "  -3.90126467e+00 -3.25939447e-01  1.29316196e-01 -8.60423669e-02\n",
      "   4.36982922e-02 -1.90979838e-01  1.32457033e-01 -2.83846051e-01\n",
      "  -6.80665001e-02  2.04544917e-01 -2.57560909e-01 -1.40071824e-01\n",
      "  -4.92919385e-02  5.57256162e-01  1.12671010e-01  3.88350427e-01\n",
      "   3.17138255e-01  1.28394201e-01  4.52242559e-03  3.32222134e-01\n",
      "  -7.59825930e-02 -1.94343209e-01  3.64615284e-02  2.75463555e-02\n",
      "   1.74662754e-01  4.93132286e-02 -2.64211029e-01  3.19564492e-01\n",
      "  -1.91265538e-01 -1.57346383e-01 -2.02134505e-01 -5.90337440e-02\n",
      "   2.61487454e-01  3.31858337e-01 -1.50666505e-01  2.32394144e-01\n",
      "   2.35553250e-01 -3.68746698e-01 -3.80364686e-01 -5.39022923e-01\n",
      "   1.87352046e-01 -1.55699044e-01  1.35306641e-01 -5.89996159e-01\n",
      "   6.11188412e-01 -4.70469266e-01 -1.87901527e-01 -1.26087353e-01\n",
      "   2.66490281e-01  2.49763355e-01 -2.28459120e-01 -2.23102301e-01\n",
      "  -9.64593366e-02 -2.00870320e-01 -2.11002618e-01 -5.68834603e-01\n",
      "   3.96647274e-01  5.50132155e-01 -1.67548567e-01  3.17621604e-02\n",
      "   4.68336433e-01  2.92519331e-02 -2.25066282e-02 -5.08054852e-01\n",
      "  -1.87844962e-01 -2.23279476e-01 -5.85689485e-01 -3.06680888e-01\n",
      "  -3.86575907e-01 -6.14416637e-02 -4.04297382e-01  1.68878675e-01\n",
      "  -4.39497203e-01 -9.82537746e-01  2.54109114e-01 -3.35355669e-01\n",
      "  -6.03035763e-02  9.41074640e-02  2.11963490e-01  1.30630270e-01\n",
      "  -5.94701886e-01 -8.25724125e-01  2.55088240e-01  4.52051405e-03\n",
      "  -2.85869062e-01 -1.98938206e-01  1.00936726e-01 -2.54875481e-01\n",
      "  -5.15638515e-02 -1.97500363e-01  1.94530636e-01  1.87673315e-01\n",
      "   7.27634653e-02  3.56464803e-01  2.25022480e-01  1.41797706e-01\n",
      "   4.07825947e-01 -6.11045778e-01  3.67007881e-01 -2.38566533e-01\n",
      "   3.40371072e-01 -8.54061693e-02  3.75561506e-01 -3.33853245e-01\n",
      "  -4.56899017e-01  2.11502790e-01 -6.66499257e-01  2.60690928e-01\n",
      "   2.42280170e-01  1.84529588e-01  9.12095532e-02 -2.11427689e-01\n",
      "   2.82245040e-01 -3.41342419e-01 -4.78128582e-01  3.92454684e-01\n",
      "   2.99020112e-01  7.08175302e-01  2.52594501e-01 -4.27709579e-01\n",
      "  -4.43260849e-01  6.21079385e-01 -5.73037624e-01 -3.25394094e-01\n",
      "  -3.09526533e-01 -5.97814918e-02  1.74544498e-01 -7.19918981e-02\n",
      "   1.41069070e-01 -7.30593577e-02 -5.37475683e-02 -3.37308615e-01\n",
      "  -8.33378583e-02  1.23339199e-01  3.31552923e-01 -2.84043342e-01\n",
      "   2.09048197e-01  1.90592781e-01  9.32504311e-02 -3.27452943e-02\n",
      "  -3.85110714e-02  3.19535434e-01 -4.25426364e-02  1.88327953e-01\n",
      "  -3.35140899e-02  5.57906926e-01  1.58865571e-01  1.50844336e-01\n",
      "  -2.25518513e-02  2.11661860e-01 -2.15079680e-01 -4.99558449e-01\n",
      "   1.16070911e-01  1.55928386e-02  1.57881051e-01 -6.23767860e-02\n",
      "   3.56846273e-01 -1.90292791e-01 -6.76037148e-02 -7.28270531e-01\n",
      "   1.53280616e-01  7.02405199e-02  3.70465338e-01  2.23611429e-01\n",
      "   7.49122053e-02  4.01613086e-01 -3.05609018e-01 -3.53044122e-02\n",
      "  -7.89233372e-02  2.06253864e-02 -3.10981303e-01 -1.69229910e-01\n",
      "   2.93827385e-01  1.09998994e-01  1.80793181e-01  2.38637000e-01\n",
      "   1.20988540e-01 -3.55543613e-01 -3.08054257e-02  5.88020861e-01\n",
      "   1.33029491e-01 -3.37019749e-02 -1.29604757e-01 -6.22378401e-02\n",
      "   1.36587307e-01  1.80524930e-01 -1.49028944e-02  6.73618242e-02\n",
      "  -1.29614502e-01  3.17043692e-01 -5.87836683e-01  2.44164243e-01\n",
      "   3.24444957e-02 -3.94777566e-01 -3.26409996e-01 -4.27522719e-01\n",
      "   4.00096208e-01  2.19152555e-01  7.72763416e-02 -3.07538897e-01\n",
      "   1.87473465e-02  2.81891646e-03 -6.29109502e-01 -1.06224716e-01\n",
      "  -5.00611961e-02 -2.54771560e-01  2.25227505e-01  9.12528187e-02\n",
      "   2.14874446e-02  5.17987739e-03 -7.76750920e-03 -2.04050634e-02\n",
      "  -4.73222643e-01 -5.34744918e-01 -1.83915999e-02 -1.35407642e-01\n",
      "  -1.04788588e-02 -5.69222905e-02 -5.91110408e-01 -1.47502452e-01\n",
      "  -4.01964277e-01 -1.79403629e-02  2.55894274e-01  4.58163947e-01\n",
      "  -8.26496780e-01 -2.16588661e-01 -4.39294606e-01 -1.82312831e-01\n",
      "  -3.99654925e-01 -1.15370333e-01  4.10884857e-01 -4.74491864e-01\n",
      "   1.72395334e-01  3.06758165e-01 -4.87475991e-02 -2.64170021e-01\n",
      "  -4.68364179e-01 -1.47218019e-01  2.28196889e-01 -6.79478228e-01\n",
      "  -1.54435024e-01  4.65658642e-02 -2.34205753e-01 -2.65651733e-01\n",
      "   2.64779299e-01 -1.21061444e-01 -4.37016755e-01  2.47833326e-01\n",
      "  -2.64903277e-01  3.74023646e-01 -1.30897984e-01  1.83813691e-01\n",
      "  -3.64515305e-01 -2.11284280e-01  3.61928463e-01 -4.56373125e-01\n",
      "  -4.48519856e-01 -2.89053649e-01 -6.67863846e-01  5.48700914e-02\n",
      "   4.39065039e-01 -3.65752161e-01 -1.27666444e-01  3.03750515e-01\n",
      "   4.58407342e-01  4.76105064e-01  2.41919830e-01  1.11402176e-01\n",
      "   2.03244492e-01 -2.48362035e-01 -6.98813796e-01 -1.29481941e-01\n",
      "   2.80858427e-01  3.23757857e-01  2.59586304e-01 -2.88604468e-01\n",
      "   2.19674576e-02 -4.45494920e-01  2.56564707e-01 -8.79636258e-02\n",
      "  -7.51211271e-02  1.25149325e-01  1.47673965e-01  1.93034746e-02\n",
      "   4.26927567e-01 -4.18743581e-01 -5.98980710e-02 -1.09651268e-01\n",
      "   2.76773393e-01  2.29345351e-01 -2.77052701e-01  3.24148118e-01\n",
      "  -1.11281462e-01  7.85357580e-02 -1.66937206e-02  1.87363714e-01\n",
      "   4.33645993e-01  2.07542658e-01 -2.32086867e-01  2.98858583e-02\n",
      "  -1.64926481e-02  2.35332623e-01  6.48643434e-01  2.18064353e-01\n",
      "  -5.72694726e-02  1.75490782e-01  1.22602945e-02 -3.20140630e-01\n",
      "  -1.31047353e-01  3.46549183e-01 -4.52300489e-01 -3.81717741e-01\n",
      "   5.88041008e-01  5.86205065e-01 -6.68762326e-01 -1.63783625e-01\n",
      "  -1.14823980e-02 -5.77007473e-01  1.06557503e-01  2.46763527e-02\n",
      "  -2.67067291e-02 -3.66452895e-02  6.53523028e-01  2.14846492e-01\n",
      "  -3.77397120e-01  5.09359837e-01 -4.95344102e-02 -2.61712819e-01\n",
      "   4.53923680e-02 -5.06467894e-02  8.82849470e-02  4.70396072e-01\n",
      "  -1.05871901e-01  1.56646565e-01 -1.01148553e-01 -3.75907928e-01\n",
      "   1.60336494e-02  2.99136847e-01  3.40344697e-01 -2.33483408e-02\n",
      "   6.00305676e-01 -1.87402759e-02  1.06356621e-01  2.29601990e-02\n",
      "   1.56044560e-02  4.33982223e-01  2.04707935e-01  7.71243051e-02\n",
      "   5.09683251e-01  8.38385582e-01  2.58950759e-02  3.48116398e-01\n",
      "   6.03636317e-02 -1.09435223e-01  6.58877671e-01  3.66237432e-01\n",
      "   5.38530886e-01  5.56795657e-01  5.16350925e-01  3.75714451e-01\n",
      "   3.95508230e-01  3.09502911e-02  2.00055510e-01 -3.62084657e-01\n",
      "  -4.20341074e-01  1.48061872e-01  5.56618810e-01  2.29268596e-01\n",
      "  -2.21233100e-01 -9.24405269e-03 -3.27244490e-01  4.00946349e-01\n",
      "  -8.34961161e-02 -4.80174609e-02 -3.98780823e-01  7.65787140e-02\n",
      "   2.28839189e-01 -1.62365124e-01 -2.65163720e-01 -2.10171208e-01\n",
      "   8.75498576e-04 -2.36227848e-02 -2.78220385e-01 -1.78281412e-01\n",
      "  -1.33363634e-01 -4.03416365e-01 -9.45964232e-02 -1.82349607e-01\n",
      "  -6.10218644e-02 -2.72847980e-01 -4.15704250e-01 -2.86915720e-01\n",
      "   5.83983958e-01 -3.06387722e-01  2.64798850e-01 -2.86020905e-01\n",
      "  -1.93279579e-01  5.42639256e-01  6.10197008e-01 -8.24379250e-02\n",
      "   1.82717055e-01 -6.77422732e-02 -1.92717597e-01  1.57300919e-01\n",
      "  -5.12568541e-02  6.01663962e-02 -2.38587871e-01  6.26877174e-02\n",
      "  -2.11889386e-01  8.19055215e-02  1.36297092e-01  3.42964321e-01\n",
      "  -5.66082358e-01  7.15999529e-02 -2.62580454e-01  1.79573148e-01\n",
      "   1.67248398e-01 -2.44435649e-02 -4.01774138e-01  3.19725990e-01\n",
      "  -5.70604742e-01 -2.05533639e-01  2.45419875e-01  6.14140108e-02\n",
      "  -2.35224620e-01  3.64982545e-01 -3.94943774e-01  1.00448297e-03\n",
      "  -3.14650208e-01  1.03819584e-04  4.65242773e-01  1.18207924e-01\n",
      "   3.25662136e-01  3.68664593e-01 -2.64726371e-01 -5.12967944e-01\n",
      "  -2.21199259e-01  4.10276562e-01  3.40467393e-01  1.39636263e-01\n",
      "  -8.41504335e-02  4.08035517e-01  1.51270598e-01  6.06782399e-02\n",
      "  -1.35323331e-01  8.66538435e-02 -2.76685268e-01 -6.58388257e-01\n",
      "  -4.51612025e-01 -5.67824125e-01  1.94959179e-01  3.39900553e-02\n",
      "  -4.86950845e-01 -4.34964865e-01 -7.32705668e-02  1.26956090e-01\n",
      "  -4.57821302e-02 -1.06542766e-01 -3.95331442e-01  8.54180232e-02]]\n"
     ]
    }
   ],
   "source": [
    "#@title Edit and run this cell to import BERT tokenizer and BERT model and get BERT vector representations.\n",
    "from transformers import BertTokenizer, BertModel\n",
    "import torch\n",
    "import numpy as np\n",
    "\n",
    "def preprocess_text_bert(text: str) -> np.array:\n",
    "    \"\"\"\n",
    "    This function expects an object of type string and returns a numpy array after\n",
    "    tokenizing the text through BertTokenizer and generating vectors using BertModel\n",
    "\n",
    "    :param text: an object of type string\n",
    "    :return: a numpy array of shape (768,)\n",
    "    \"\"\"\n",
    "    # importing the 'bert-base-uncased' tokenizer and model (2 lines of code)\n",
    "    tokenizer = BertTokenizer.from_pretrained('bert-base-uncased')\n",
    "    model = BertModel.from_pretrained('bert-base-uncased')\n",
    "\n",
    "    # refer the example in section 4.2.1 to generate tokens for the passed text\n",
    "    # to ensure the reproducibility of the results, spacify only the\n",
    "    # 1. input text to the tokenizer and the\n",
    "    # 2. return_tensor type (pytorch tensors) ( 1 line of code)\n",
    "    # 3. DO NOT specify padding, max_length and truncation argument values\n",
    "    bert_input = tokenizer(text, return_tensors='pt')\n",
    "\n",
    "\n",
    "    with torch.no_grad():  # ensures that BertModel is not in training mode\n",
    "\n",
    "        # use input_ids and attention_mask attributes of the tokenizer output to call BertModel (1 line of code)\n",
    "        outputs = model(**bert_input)\n",
    "\n",
    "        # 1. retrive the last_hidden_state of the BertModel output\n",
    "        # 2. get the mean of the resulting group of tensors. Specify correct dimension (1-2 lines of code)\n",
    "        vector = outputs.last_hidden_state.mean(dim=1)\n",
    "\n",
    "    # 1. convert the pytorch tensor to a numpy array\n",
    "    # 2. return the resulting array (2 lines of code)\n",
    "\n",
    "    return vector.numpy()\n",
    "\n",
    "\n",
    "\n",
    "print(f\"Vector representation of '{sample_text}'\")\n",
    "print(preprocess_text_bert(sample_text))\n"
   ]
  },
  {
   "cell_type": "markdown",
   "metadata": {
    "id": "QTCnD7_rjy3k"
   },
   "source": [
    "### 4.2.2 Applying Cosine similarity with BERT embeddings to the corpus\n",
    "\n",
    "Apply preprocess_text_bert on the corpus. This execution will take around 8 minutes."
   ]
  },
  {
   "cell_type": "code",
   "execution_count": null,
   "metadata": {
    "id": "_FUfz7uMhTGe",
    "tags": []
   },
   "outputs": [],
   "source": [
    "train[\"text_processed\"] = train[\"text\"].apply(preprocess_text_bert)\n",
    "test[\"text_processed\"] = test[\"text\"].apply(preprocess_text_bert)"
   ]
  },
  {
   "cell_type": "code",
   "execution_count": null,
   "metadata": {
    "id": "7v2lV6FUmAKO",
    "tags": []
   },
   "outputs": [],
   "source": [
    "#@title Run this cell and feel free to play with this cell to obtain better insights. (Do not edit code.)\n",
    "document1 = test.iloc[2]\n",
    "print(f\"Test Document \\n{document1.text}\\n\")\n",
    "most_similar = find_most_similar_document_cosine(document1[\"text_processed\"])\n",
    "print(f\"Most Similar Document \\n{train.iloc[most_similar].text}\")"
   ]
  },
  {
   "cell_type": "markdown",
   "metadata": {
    "id": "RDt_0ZUH34Zt"
   },
   "source": [
    "### 4.2.3 Cosine Distance with BERT embeddings Evaluation\n",
    "\n",
    "Execute the following code to evaluate the model."
   ]
  },
  {
   "cell_type": "code",
   "execution_count": null,
   "metadata": {
    "id": "Nt3Gb5Lo4Cxg"
   },
   "outputs": [],
   "source": [
    "#@title Run this cell to evaluate the model. (Do not edit code.)\n",
    "category_found = train[\"category\"].iloc[test[\"text_processed\"].apply(lambda x: find_most_similar_document_cosine(x))]\n",
    "category_found = category_found.reset_index()\n",
    "test[\"category_found\"] = category_found[\"category\"]\n",
    "\n",
    "cf_matrix = confusion_matrix(test[\"category\"], test[\"category_found\"])\n",
    "\n",
    "precision, recall, fscore, support = precision_recall_fscore_support(test[\"category\"], test[\"category_found\"])\n",
    "print(pd.DataFrame({'precision': precision, 'recall': recall, 'fscore': fscore}))\n",
    "ax = plt.axes()\n",
    "sns.heatmap(cf_matrix, annot=True, xticklabels=['World', 'Sports', 'Business', 'Sci/Tech'], yticklabels=['World', 'Sports', 'Business', 'Sci/Tech'],cmap='Blues', ax=ax)\n",
    "ax.set_title('Heatmap for BERT - Cosine Similarity Results')\n",
    "ax.set_xlabel('Predicted category')\n",
    "ax.set_ylabel('Actual category')\n",
    "plt.show()"
   ]
  },
  {
   "cell_type": "markdown",
   "metadata": {
    "id": "XZqJ2VeT-Dph"
   },
   "source": [
    "## 4.3 SBERT Embeddings"
   ]
  },
  {
   "cell_type": "markdown",
   "metadata": {
    "id": "4kMTlj4a_xyR"
   },
   "source": [
    "**SBERT**, short for **Sentence-BERT** (https://arxiv.org/pdf/1908.10084.pdf) is a modified architecture of the pre-trained BERT model, incorporating siamese and triplet network architectures to generate semantically meaningful **sentence embeddings**, which can be compared using cosine similarity. Therefore, this model architecture is highly useful in various Natural Language Processing tasks such as Semantic textual similarity calculation, semantic search or paraphrase mining.\n",
    "\n",
    "In this section, SBERT sentence embeddings will be used along with cosine similarity to compare its performance with other three word representations discussed earlier, Word2Vec and Tf-IDF and BERT embeddings."
   ]
  },
  {
   "cell_type": "markdown",
   "metadata": {
    "id": "4XMG9qLNEP4g"
   },
   "source": [
    "### 4.3.1 Programming Question #6 (4 points)\n",
    "\n",
    "**Use the example given in the Usage section of the following documentation to complete the function below.**\n",
    "\n",
    "- SentenceTransformers Documentation - (https://www.sbert.net/)\n",
    "\n",
    "<mark>After you have completed the function and executed the tests, make sure to transfer your answer to the .py file provided along with this Notebook.</mark>"
   ]
  },
  {
   "cell_type": "code",
   "execution_count": null,
   "metadata": {
    "id": "75ndpBFDWDPk"
   },
   "outputs": [],
   "source": [
    "#@title Edit and run this cell to import SBERT model and get SBERT vector representations.\n",
    "from sentence_transformers import SentenceTransformer\n",
    "\n",
    "def preprocess_text_sbert(text: str) -> np.array:\n",
    "    \"\"\"\n",
    "    This function expects an object of type string and returns a numpy array after\n",
    "    tokenizing the text through BertTokenizer and generating vectors using BertModel\n",
    "\n",
    "    :param text: an object of type string\n",
    "    :return: a numpy array of shape (384,)\n",
    "    \"\"\"\n",
    "    # 1. import the \"sentence-transformers/all-MiniLM-L6-v2\" model (3 lines of code)\n",
    "    # 2. retrieve the SBERT emebdding for text\n",
    "    # 3. return the retrieved emebddding\n",
    "\n",
    "\n",
    "    return\n",
    "\n",
    "\n",
    "print(f\"Vector representation of '{sample_text}'\")\n",
    "print(preprocess_text_sbert(sample_text))"
   ]
  },
  {
   "cell_type": "markdown",
   "metadata": {
    "id": "4ZNqy2CIOutr"
   },
   "source": [
    "### 4.3.2 Applying Cosine similarity with SBERT embeddings to the corpus\n",
    "\n",
    "Apply preprocess_text_sbert on the corpus"
   ]
  },
  {
   "cell_type": "code",
   "execution_count": null,
   "metadata": {
    "id": "A3fpd9m6O4YF"
   },
   "outputs": [],
   "source": [
    "train[\"text_processed\"] = train[\"text\"].apply(preprocess_text_sbert)\n",
    "test[\"text_processed\"] = test[\"text\"].apply(preprocess_text_sbert)"
   ]
  },
  {
   "cell_type": "markdown",
   "metadata": {
    "id": "Bpa1SX2ykENH"
   },
   "source": [
    "-------"
   ]
  },
  {
   "cell_type": "code",
   "execution_count": null,
   "metadata": {
    "id": "7AqedxwDPAcB"
   },
   "outputs": [],
   "source": [
    "#@title Run this cell and feel free to play with this cell to obtain better insights. (Do not edit code.)\n",
    "document1 = test.iloc[2]\n",
    "print(f\"Test Document \\n{document1.text}\\n\")\n",
    "most_similar = find_most_similar_document_cosine(document1[\"text_processed\"])\n",
    "print(f\"Most Similar Document \\n{train.iloc[most_similar].text}\")"
   ]
  },
  {
   "cell_type": "markdown",
   "metadata": {
    "id": "I_5Qtk8dPNko"
   },
   "source": [
    "### 4.3.3 Cosine Distance with SBERT embeddings Evaluation\n",
    "\n",
    "Execute the following code to evaluate the model."
   ]
  },
  {
   "cell_type": "code",
   "execution_count": null,
   "metadata": {
    "id": "xdJ7FVEzPZHC"
   },
   "outputs": [],
   "source": [
    "#@title Run this cell to evaluate the model. (Do not edit code.)\n",
    "category_found = train[\"category\"].iloc[test[\"text_processed\"].apply(lambda x: find_most_similar_document_cosine(x))]\n",
    "category_found = category_found.reset_index()\n",
    "test[\"category_found\"] = category_found[\"category\"]\n",
    "\n",
    "cf_matrix = confusion_matrix(test[\"category\"], test[\"category_found\"])\n",
    "\n",
    "precision, recall, fscore, support = precision_recall_fscore_support(test[\"category\"], test[\"category_found\"])\n",
    "print(pd.DataFrame({'precision': precision, 'recall': recall, 'fscore': fscore}))\n",
    "ax = plt.axes()\n",
    "sns.heatmap(cf_matrix, annot=True, xticklabels=['World', 'Sports', 'Business', 'Sci/Tech'], yticklabels=['World', 'Sports', 'Business', 'Sci/Tech'],cmap='Blues', ax=ax)\n",
    "ax.set_title('Heatmap for SBERT - Cosine Similarity Results')\n",
    "ax.set_xlabel('Predicted category')\n",
    "ax.set_ylabel('Actual category')\n",
    "plt.show()"
   ]
  },
  {
   "cell_type": "markdown",
   "metadata": {
    "id": "auoLg7uQiYkT"
   },
   "source": [
    "# Part 5: For further study\n",
    "\n",
    "1. Consider recent progress investigating the magnitude of a document and cosine similarity (https://link.springer.com/content/pdf/10.1007/s13042-021-01295-8.pdf)\n",
    "2. Consider whether it is possible to improve Cosine similarity using different distributional semantics (other embeddings)."
   ]
  },
  {
   "cell_type": "markdown",
   "metadata": {
    "id": "_s9GQHIggESG"
   },
   "source": [
    "# Part 6: Uploading responses for Grading\n",
    "\n",
    "To upload your responses for grading, please follow the instructions provided in the `Project 2 - Document Similarity` page in Canvas."
   ]
  }
 ],
 "metadata": {
  "colab": {
   "provenance": [],
   "toc_visible": true
  },
  "kernelspec": {
   "display_name": "CAP4641_PROJECTS",
   "language": "python",
   "name": "cap4641_projects"
  },
  "language_info": {
   "codemirror_mode": {
    "name": "ipython",
    "version": 3
   },
   "file_extension": ".py",
   "mimetype": "text/x-python",
   "name": "python",
   "nbconvert_exporter": "python",
   "pygments_lexer": "ipython3",
   "version": "3.9.19"
  }
 },
 "nbformat": 4,
 "nbformat_minor": 4
}
